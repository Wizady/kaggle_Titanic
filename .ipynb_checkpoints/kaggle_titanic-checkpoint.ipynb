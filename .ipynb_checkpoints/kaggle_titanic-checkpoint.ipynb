{
 "cells": [
  {
   "cell_type": "markdown",
   "metadata": {},
   "source": [
    "# Titanic - Predicting Survival\n",
    "### By Nico Hertel\n",
    "mail@nicohertel.de"
   ]
  },
  {
   "cell_type": "markdown",
   "metadata": {},
   "source": [
    "##### Problem Description (from https://www.kaggle.com/c/titanic)\n",
    "The sinking of the RMS Titanic is one of the most infamous shipwrecks in history.  On April 15, 1912, during her maiden voyage, the Titanic sank after colliding with an iceberg, killing 1502 out of 2224 passengers and crew. This sensational tragedy shocked the international community and led to better safety regulations for ships\n",
    "\n",
    "In this challenge, we ask you to complete the analysis of what sorts of people were likely to survive. In particular, we ask you to apply the tools of machine learning to predict which passengers survived the tragedy.\n",
    "\n",
    "##### Evaluation\n",
    "It is your job to predict if a passenger survived the sinking of the Titanic or not.\n",
    "For each PassengerId in the test set, you must predict a 0 or 1 value for the Survived variable.\n",
    "\n",
    "Your score is the percentage of passengers you correctly predict. This is known simply as \"accuracy”.\n",
    "\n",
    "#### Results\n",
    "The final classifier results in a score of 0.77511, which corresponds to the 5475th place on the kaggle leaderboard for this challenge (Date: 18.05.2018, together with 782 other submissions)."
   ]
  },
  {
   "cell_type": "code",
   "execution_count": 2,
   "metadata": {
    "collapsed": true
   },
   "outputs": [],
   "source": [
    "import matplotlib.pyplot as plt\n",
    "import seaborn as sns\n",
    "import pandas as pd\n",
    "import numpy as np\n",
    "from sklearn.linear_model import LogisticRegressionCV"
   ]
  },
  {
   "cell_type": "code",
   "execution_count": 3,
   "metadata": {
    "collapsed": true
   },
   "outputs": [],
   "source": [
    "% matplotlib inline\n",
    "\n",
    "sns.set_style('darkgrid')\n",
    "sns.set_palette(\"husl\")"
   ]
  },
  {
   "cell_type": "markdown",
   "metadata": {},
   "source": [
    "### Data Exploration"
   ]
  },
  {
   "cell_type": "code",
   "execution_count": 107,
   "metadata": {
    "collapsed": false
   },
   "outputs": [
    {
     "data": {
      "text/html": [
       "<div>\n",
       "<style>\n",
       "    .dataframe thead tr:only-child th {\n",
       "        text-align: right;\n",
       "    }\n",
       "\n",
       "    .dataframe thead th {\n",
       "        text-align: left;\n",
       "    }\n",
       "\n",
       "    .dataframe tbody tr th {\n",
       "        vertical-align: top;\n",
       "    }\n",
       "</style>\n",
       "<table border=\"1\" class=\"dataframe\">\n",
       "  <thead>\n",
       "    <tr style=\"text-align: right;\">\n",
       "      <th></th>\n",
       "      <th>PassengerId</th>\n",
       "      <th>Survived</th>\n",
       "      <th>Pclass</th>\n",
       "      <th>Name</th>\n",
       "      <th>Sex</th>\n",
       "      <th>Age</th>\n",
       "      <th>SibSp</th>\n",
       "      <th>Parch</th>\n",
       "      <th>Ticket</th>\n",
       "      <th>Fare</th>\n",
       "      <th>Cabin</th>\n",
       "      <th>Embarked</th>\n",
       "    </tr>\n",
       "  </thead>\n",
       "  <tbody>\n",
       "    <tr>\n",
       "      <th>0</th>\n",
       "      <td>1</td>\n",
       "      <td>0</td>\n",
       "      <td>3</td>\n",
       "      <td>Braund, Mr. Owen Harris</td>\n",
       "      <td>male</td>\n",
       "      <td>22.0</td>\n",
       "      <td>1</td>\n",
       "      <td>0</td>\n",
       "      <td>A/5 21171</td>\n",
       "      <td>7.2500</td>\n",
       "      <td>NaN</td>\n",
       "      <td>S</td>\n",
       "    </tr>\n",
       "    <tr>\n",
       "      <th>1</th>\n",
       "      <td>2</td>\n",
       "      <td>1</td>\n",
       "      <td>1</td>\n",
       "      <td>Cumings, Mrs. John Bradley (Florence Briggs Th...</td>\n",
       "      <td>female</td>\n",
       "      <td>38.0</td>\n",
       "      <td>1</td>\n",
       "      <td>0</td>\n",
       "      <td>PC 17599</td>\n",
       "      <td>71.2833</td>\n",
       "      <td>C85</td>\n",
       "      <td>C</td>\n",
       "    </tr>\n",
       "    <tr>\n",
       "      <th>2</th>\n",
       "      <td>3</td>\n",
       "      <td>1</td>\n",
       "      <td>3</td>\n",
       "      <td>Heikkinen, Miss. Laina</td>\n",
       "      <td>female</td>\n",
       "      <td>26.0</td>\n",
       "      <td>0</td>\n",
       "      <td>0</td>\n",
       "      <td>STON/O2. 3101282</td>\n",
       "      <td>7.9250</td>\n",
       "      <td>NaN</td>\n",
       "      <td>S</td>\n",
       "    </tr>\n",
       "    <tr>\n",
       "      <th>3</th>\n",
       "      <td>4</td>\n",
       "      <td>1</td>\n",
       "      <td>1</td>\n",
       "      <td>Futrelle, Mrs. Jacques Heath (Lily May Peel)</td>\n",
       "      <td>female</td>\n",
       "      <td>35.0</td>\n",
       "      <td>1</td>\n",
       "      <td>0</td>\n",
       "      <td>113803</td>\n",
       "      <td>53.1000</td>\n",
       "      <td>C123</td>\n",
       "      <td>S</td>\n",
       "    </tr>\n",
       "    <tr>\n",
       "      <th>4</th>\n",
       "      <td>5</td>\n",
       "      <td>0</td>\n",
       "      <td>3</td>\n",
       "      <td>Allen, Mr. William Henry</td>\n",
       "      <td>male</td>\n",
       "      <td>35.0</td>\n",
       "      <td>0</td>\n",
       "      <td>0</td>\n",
       "      <td>373450</td>\n",
       "      <td>8.0500</td>\n",
       "      <td>NaN</td>\n",
       "      <td>S</td>\n",
       "    </tr>\n",
       "  </tbody>\n",
       "</table>\n",
       "</div>"
      ],
      "text/plain": [
       "   PassengerId  Survived  Pclass  \\\n",
       "0            1         0       3   \n",
       "1            2         1       1   \n",
       "2            3         1       3   \n",
       "3            4         1       1   \n",
       "4            5         0       3   \n",
       "\n",
       "                                                Name     Sex   Age  SibSp  \\\n",
       "0                            Braund, Mr. Owen Harris    male  22.0      1   \n",
       "1  Cumings, Mrs. John Bradley (Florence Briggs Th...  female  38.0      1   \n",
       "2                             Heikkinen, Miss. Laina  female  26.0      0   \n",
       "3       Futrelle, Mrs. Jacques Heath (Lily May Peel)  female  35.0      1   \n",
       "4                           Allen, Mr. William Henry    male  35.0      0   \n",
       "\n",
       "   Parch            Ticket     Fare Cabin Embarked  \n",
       "0      0         A/5 21171   7.2500   NaN        S  \n",
       "1      0          PC 17599  71.2833   C85        C  \n",
       "2      0  STON/O2. 3101282   7.9250   NaN        S  \n",
       "3      0            113803  53.1000  C123        S  \n",
       "4      0            373450   8.0500   NaN        S  "
      ]
     },
     "execution_count": 107,
     "metadata": {},
     "output_type": "execute_result"
    }
   ],
   "source": [
    "data = pd.read_csv('titanic_train.csv')\n",
    "data.head()"
   ]
  },
  {
   "cell_type": "code",
   "execution_count": 5,
   "metadata": {
    "collapsed": false
   },
   "outputs": [
    {
     "name": "stdout",
     "output_type": "stream",
     "text": [
      "<class 'pandas.core.frame.DataFrame'>\n",
      "RangeIndex: 891 entries, 0 to 890\n",
      "Data columns (total 12 columns):\n",
      "PassengerId    891 non-null int64\n",
      "Survived       891 non-null int64\n",
      "Pclass         891 non-null int64\n",
      "Name           891 non-null object\n",
      "Sex            891 non-null object\n",
      "Age            714 non-null float64\n",
      "SibSp          891 non-null int64\n",
      "Parch          891 non-null int64\n",
      "Ticket         891 non-null object\n",
      "Fare           891 non-null float64\n",
      "Cabin          204 non-null object\n",
      "Embarked       889 non-null object\n",
      "dtypes: float64(2), int64(5), object(5)\n",
      "memory usage: 83.6+ KB\n"
     ]
    }
   ],
   "source": [
    "data.info()"
   ]
  },
  {
   "cell_type": "markdown",
   "metadata": {},
   "source": [
    "We have categorical and numerical data:\n",
    "    - Categorical: Name, Sex, Ticket, Cabin and Embarked\n",
    "    - Numerical: ID, Survied, Pclass, Age, SibSP, Parch, Fare\n",
    "\n",
    "Also, the cabin-information is missing in most (77%) cases\n",
    "\n",
    "Ticket information is numeric or alphanumeric, Cabin is alphanumeric -> Translate into numeric values?\n",
    "\n",
    "Embarked is encoding the port of Embarkation, C=Cherbourg, Q=Queenstown, S=Southampton\n",
    "-> Embarked and Sex can be hot encoded"
   ]
  },
  {
   "cell_type": "code",
   "execution_count": 59,
   "metadata": {
    "collapsed": false
   },
   "outputs": [
    {
     "name": "stdout",
     "output_type": "stream",
     "text": [
      "38.38% of passangers in the trainign data survived, compared to ~32% of all passangers\n",
      "76.09% of passangers traveled without children/parents\n",
      "68.24% of passangers traveled without siblings/spouses\n",
      "64.76% of passangers were male\n"
     ]
    }
   ],
   "source": [
    "print('%.2f%% of passangers in the trainign data survived, compared to ~32%% of all passangers' %(100*np.mean(data['Survived'])))\n",
    "print('%.2f%% of passangers traveled without children/parents' %(100*np.sum(data['Parch']==0)/len(data['Parch'])))\n",
    "print('%.2f%% of passangers traveled without siblings/spouses' %(100*np.sum(data['SibSp']==0)/len(data['SibSp'])))\n",
    "print('%.2f%% of passangers were male' %(100*np.sum(data['Sex']=='male')/len(data['Sex'])))"
   ]
  },
  {
   "cell_type": "code",
   "execution_count": 40,
   "metadata": {
    "collapsed": false
   },
   "outputs": [
    {
     "data": {
      "text/html": [
       "<div>\n",
       "<style>\n",
       "    .dataframe thead tr:only-child th {\n",
       "        text-align: right;\n",
       "    }\n",
       "\n",
       "    .dataframe thead th {\n",
       "        text-align: left;\n",
       "    }\n",
       "\n",
       "    .dataframe tbody tr th {\n",
       "        vertical-align: top;\n",
       "    }\n",
       "</style>\n",
       "<table border=\"1\" class=\"dataframe\">\n",
       "  <thead>\n",
       "    <tr style=\"text-align: right;\">\n",
       "      <th></th>\n",
       "      <th>PassengerId</th>\n",
       "      <th>Survived</th>\n",
       "      <th>Pclass</th>\n",
       "      <th>Age</th>\n",
       "      <th>SibSp</th>\n",
       "      <th>Parch</th>\n",
       "      <th>Fare</th>\n",
       "    </tr>\n",
       "  </thead>\n",
       "  <tbody>\n",
       "    <tr>\n",
       "      <th>count</th>\n",
       "      <td>891.000000</td>\n",
       "      <td>891.000000</td>\n",
       "      <td>891.000000</td>\n",
       "      <td>714.000000</td>\n",
       "      <td>891.000000</td>\n",
       "      <td>891.000000</td>\n",
       "      <td>891.000000</td>\n",
       "    </tr>\n",
       "    <tr>\n",
       "      <th>mean</th>\n",
       "      <td>446.000000</td>\n",
       "      <td>0.383838</td>\n",
       "      <td>2.308642</td>\n",
       "      <td>29.699118</td>\n",
       "      <td>0.523008</td>\n",
       "      <td>0.381594</td>\n",
       "      <td>32.204208</td>\n",
       "    </tr>\n",
       "    <tr>\n",
       "      <th>std</th>\n",
       "      <td>257.353842</td>\n",
       "      <td>0.486592</td>\n",
       "      <td>0.836071</td>\n",
       "      <td>14.526497</td>\n",
       "      <td>1.102743</td>\n",
       "      <td>0.806057</td>\n",
       "      <td>49.693429</td>\n",
       "    </tr>\n",
       "    <tr>\n",
       "      <th>min</th>\n",
       "      <td>1.000000</td>\n",
       "      <td>0.000000</td>\n",
       "      <td>1.000000</td>\n",
       "      <td>0.420000</td>\n",
       "      <td>0.000000</td>\n",
       "      <td>0.000000</td>\n",
       "      <td>0.000000</td>\n",
       "    </tr>\n",
       "    <tr>\n",
       "      <th>25%</th>\n",
       "      <td>223.500000</td>\n",
       "      <td>0.000000</td>\n",
       "      <td>2.000000</td>\n",
       "      <td>20.125000</td>\n",
       "      <td>0.000000</td>\n",
       "      <td>0.000000</td>\n",
       "      <td>7.910400</td>\n",
       "    </tr>\n",
       "    <tr>\n",
       "      <th>50%</th>\n",
       "      <td>446.000000</td>\n",
       "      <td>0.000000</td>\n",
       "      <td>3.000000</td>\n",
       "      <td>28.000000</td>\n",
       "      <td>0.000000</td>\n",
       "      <td>0.000000</td>\n",
       "      <td>14.454200</td>\n",
       "    </tr>\n",
       "    <tr>\n",
       "      <th>75%</th>\n",
       "      <td>668.500000</td>\n",
       "      <td>1.000000</td>\n",
       "      <td>3.000000</td>\n",
       "      <td>38.000000</td>\n",
       "      <td>1.000000</td>\n",
       "      <td>0.000000</td>\n",
       "      <td>31.000000</td>\n",
       "    </tr>\n",
       "    <tr>\n",
       "      <th>max</th>\n",
       "      <td>891.000000</td>\n",
       "      <td>1.000000</td>\n",
       "      <td>3.000000</td>\n",
       "      <td>80.000000</td>\n",
       "      <td>8.000000</td>\n",
       "      <td>6.000000</td>\n",
       "      <td>512.329200</td>\n",
       "    </tr>\n",
       "  </tbody>\n",
       "</table>\n",
       "</div>"
      ],
      "text/plain": [
       "       PassengerId    Survived      Pclass         Age       SibSp  \\\n",
       "count   891.000000  891.000000  891.000000  714.000000  891.000000   \n",
       "mean    446.000000    0.383838    2.308642   29.699118    0.523008   \n",
       "std     257.353842    0.486592    0.836071   14.526497    1.102743   \n",
       "min       1.000000    0.000000    1.000000    0.420000    0.000000   \n",
       "25%     223.500000    0.000000    2.000000   20.125000    0.000000   \n",
       "50%     446.000000    0.000000    3.000000   28.000000    0.000000   \n",
       "75%     668.500000    1.000000    3.000000   38.000000    1.000000   \n",
       "max     891.000000    1.000000    3.000000   80.000000    8.000000   \n",
       "\n",
       "            Parch        Fare  \n",
       "count  891.000000  891.000000  \n",
       "mean     0.381594   32.204208  \n",
       "std      0.806057   49.693429  \n",
       "min      0.000000    0.000000  \n",
       "25%      0.000000    7.910400  \n",
       "50%      0.000000   14.454200  \n",
       "75%      0.000000   31.000000  \n",
       "max      6.000000  512.329200  "
      ]
     },
     "execution_count": 40,
     "metadata": {},
     "output_type": "execute_result"
    }
   ],
   "source": [
    "data.describe()"
   ]
  },
  {
   "cell_type": "code",
   "execution_count": 60,
   "metadata": {
    "collapsed": false
   },
   "outputs": [
    {
     "data": {
      "text/html": [
       "<div>\n",
       "<style>\n",
       "    .dataframe thead tr:only-child th {\n",
       "        text-align: right;\n",
       "    }\n",
       "\n",
       "    .dataframe thead th {\n",
       "        text-align: left;\n",
       "    }\n",
       "\n",
       "    .dataframe tbody tr th {\n",
       "        vertical-align: top;\n",
       "    }\n",
       "</style>\n",
       "<table border=\"1\" class=\"dataframe\">\n",
       "  <thead>\n",
       "    <tr style=\"text-align: right;\">\n",
       "      <th></th>\n",
       "      <th>Name</th>\n",
       "      <th>Sex</th>\n",
       "      <th>Ticket</th>\n",
       "      <th>Cabin</th>\n",
       "      <th>Embarked</th>\n",
       "    </tr>\n",
       "  </thead>\n",
       "  <tbody>\n",
       "    <tr>\n",
       "      <th>count</th>\n",
       "      <td>891</td>\n",
       "      <td>891</td>\n",
       "      <td>891</td>\n",
       "      <td>204</td>\n",
       "      <td>889</td>\n",
       "    </tr>\n",
       "    <tr>\n",
       "      <th>unique</th>\n",
       "      <td>891</td>\n",
       "      <td>2</td>\n",
       "      <td>681</td>\n",
       "      <td>147</td>\n",
       "      <td>3</td>\n",
       "    </tr>\n",
       "    <tr>\n",
       "      <th>top</th>\n",
       "      <td>Morley, Mr. Henry Samuel (\"Mr Henry Marshall\")</td>\n",
       "      <td>male</td>\n",
       "      <td>CA. 2343</td>\n",
       "      <td>B96 B98</td>\n",
       "      <td>S</td>\n",
       "    </tr>\n",
       "    <tr>\n",
       "      <th>freq</th>\n",
       "      <td>1</td>\n",
       "      <td>577</td>\n",
       "      <td>7</td>\n",
       "      <td>4</td>\n",
       "      <td>644</td>\n",
       "    </tr>\n",
       "  </tbody>\n",
       "</table>\n",
       "</div>"
      ],
      "text/plain": [
       "                                                  Name   Sex    Ticket  \\\n",
       "count                                              891   891       891   \n",
       "unique                                             891     2       681   \n",
       "top     Morley, Mr. Henry Samuel (\"Mr Henry Marshall\")  male  CA. 2343   \n",
       "freq                                                 1   577         7   \n",
       "\n",
       "          Cabin Embarked  \n",
       "count       204      889  \n",
       "unique      147        3  \n",
       "top     B96 B98        S  \n",
       "freq          4      644  "
      ]
     },
     "execution_count": 60,
     "metadata": {},
     "output_type": "execute_result"
    }
   ],
   "source": [
    "data.describe(include=['O'])"
   ]
  },
  {
   "cell_type": "markdown",
   "metadata": {},
   "source": [
    "### Results of Data Exploration\n",
    "\n",
    "#### Observations\n",
    "- Age is missing a big amount of data -> Fill gaps\n",
    " - Set gap to mean age\n",
    " - Predict age\n",
    "- Many doublicates in ticket (681/891=0.76 unique entries) -> if no correlation with surviaval, drop\n",
    "- Cabin has very few entries -> maybe drop, but probably correlated to survival (position on the ship)\n",
    "- PassengerID is not relevant for survival\n",
    "- Name has no distinct pattern, maybe able to extract more information, else drop\n",
    "\n",
    "#### Ideas\n",
    "- Extract Title from Name -> maybe correlated with survival and/or passenger class\n",
    "- Combine Number of Siblings, Spouses, Parents and Children into one family-parameter\n",
    "\n",
    "#### Hypotheses\n",
    "- Females are more likely to survive than male\n",
    "- Children are more likely to survive than adults (Till what age?)\n",
    "- Upper-Class passengers are more likely to survive than others"
   ]
  },
  {
   "cell_type": "markdown",
   "metadata": {},
   "source": [
    "### Check Hypotheses"
   ]
  },
  {
   "cell_type": "code",
   "execution_count": 71,
   "metadata": {
    "collapsed": false
   },
   "outputs": [
    {
     "data": {
      "text/html": [
       "<div>\n",
       "<style>\n",
       "    .dataframe thead tr:only-child th {\n",
       "        text-align: right;\n",
       "    }\n",
       "\n",
       "    .dataframe thead th {\n",
       "        text-align: left;\n",
       "    }\n",
       "\n",
       "    .dataframe tbody tr th {\n",
       "        vertical-align: top;\n",
       "    }\n",
       "</style>\n",
       "<table border=\"1\" class=\"dataframe\">\n",
       "  <thead>\n",
       "    <tr style=\"text-align: right;\">\n",
       "      <th></th>\n",
       "      <th>Sex</th>\n",
       "      <th>Survived</th>\n",
       "    </tr>\n",
       "  </thead>\n",
       "  <tbody>\n",
       "    <tr>\n",
       "      <th>0</th>\n",
       "      <td>female</td>\n",
       "      <td>0.742038</td>\n",
       "    </tr>\n",
       "    <tr>\n",
       "      <th>1</th>\n",
       "      <td>male</td>\n",
       "      <td>0.188908</td>\n",
       "    </tr>\n",
       "  </tbody>\n",
       "</table>\n",
       "</div>"
      ],
      "text/plain": [
       "      Sex  Survived\n",
       "0  female  0.742038\n",
       "1    male  0.188908"
      ]
     },
     "execution_count": 71,
     "metadata": {},
     "output_type": "execute_result"
    }
   ],
   "source": [
    "data[['Sex', 'Survived']].groupby(['Sex'], as_index=False).mean()"
   ]
  },
  {
   "cell_type": "markdown",
   "metadata": {},
   "source": [
    "#### Females are more likely to survive than male\n",
    "True, 74% of females survived, but only 19% of males"
   ]
  },
  {
   "cell_type": "code",
   "execution_count": 72,
   "metadata": {
    "collapsed": false
   },
   "outputs": [
    {
     "data": {
      "text/html": [
       "<div>\n",
       "<style>\n",
       "    .dataframe thead tr:only-child th {\n",
       "        text-align: right;\n",
       "    }\n",
       "\n",
       "    .dataframe thead th {\n",
       "        text-align: left;\n",
       "    }\n",
       "\n",
       "    .dataframe tbody tr th {\n",
       "        vertical-align: top;\n",
       "    }\n",
       "</style>\n",
       "<table border=\"1\" class=\"dataframe\">\n",
       "  <thead>\n",
       "    <tr style=\"text-align: right;\">\n",
       "      <th></th>\n",
       "      <th>Pclass</th>\n",
       "      <th>Survived</th>\n",
       "    </tr>\n",
       "  </thead>\n",
       "  <tbody>\n",
       "    <tr>\n",
       "      <th>0</th>\n",
       "      <td>1</td>\n",
       "      <td>0.629630</td>\n",
       "    </tr>\n",
       "    <tr>\n",
       "      <th>1</th>\n",
       "      <td>2</td>\n",
       "      <td>0.472826</td>\n",
       "    </tr>\n",
       "    <tr>\n",
       "      <th>2</th>\n",
       "      <td>3</td>\n",
       "      <td>0.242363</td>\n",
       "    </tr>\n",
       "  </tbody>\n",
       "</table>\n",
       "</div>"
      ],
      "text/plain": [
       "   Pclass  Survived\n",
       "0       1  0.629630\n",
       "1       2  0.472826\n",
       "2       3  0.242363"
      ]
     },
     "execution_count": 72,
     "metadata": {},
     "output_type": "execute_result"
    }
   ],
   "source": [
    "data[['Pclass', 'Survived']].groupby(['Pclass'], as_index=False).mean()"
   ]
  },
  {
   "cell_type": "markdown",
   "metadata": {},
   "source": [
    "#### Upper-Class passengers are more likely to survive than others\n",
    "True, 63% of First-Class passengers survived, while only 47% of Second-Class and 24% of Third-Class passengers survived"
   ]
  },
  {
   "cell_type": "code",
   "execution_count": 89,
   "metadata": {
    "collapsed": false
   },
   "outputs": [
    {
     "data": {
      "image/png": "[encoded data removed]",
      "text/plain": [
       "<matplotlib.figure.Figure at 0x1f8f526ceb8>"
      ]
     },
     "metadata": {},
     "output_type": "display_data"
    }
   ],
   "source": [
    "sns.distplot(data[data['Survived'] == 0]['Age'].dropna(), kde=False, label='Died',\n",
    "             norm_hist=True, bins=20, color=sns.xkcd_rgb[\"windows blue\"])\n",
    "sns.distplot(data[data['Survived'] == 1]['Age'].dropna(), kde=False, label='Survived',\n",
    "             norm_hist=True, bins=20, color=sns.xkcd_rgb[\"pale red\"])\n",
    "plt.legend()\n",
    "plt.show()"
   ]
  },
  {
   "cell_type": "markdown",
   "metadata": {},
   "source": [
    "#### Children are more likely to survive than adults (Till what age?)\n",
    "Seems to be true, especially for babys, but in general till apox 14 years "
   ]
  },
  {
   "cell_type": "markdown",
   "metadata": {},
   "source": [
    "### More Data Exploration\n",
    "\n",
    "#### Check Influence of Embark"
   ]
  },
  {
   "cell_type": "code",
   "execution_count": 90,
   "metadata": {
    "collapsed": false
   },
   "outputs": [
    {
     "data": {
      "text/html": [
       "<div>\n",
       "<style>\n",
       "    .dataframe thead tr:only-child th {\n",
       "        text-align: right;\n",
       "    }\n",
       "\n",
       "    .dataframe thead th {\n",
       "        text-align: left;\n",
       "    }\n",
       "\n",
       "    .dataframe tbody tr th {\n",
       "        vertical-align: top;\n",
       "    }\n",
       "</style>\n",
       "<table border=\"1\" class=\"dataframe\">\n",
       "  <thead>\n",
       "    <tr style=\"text-align: right;\">\n",
       "      <th></th>\n",
       "      <th>Embarked</th>\n",
       "      <th>Survived</th>\n",
       "    </tr>\n",
       "  </thead>\n",
       "  <tbody>\n",
       "    <tr>\n",
       "      <th>0</th>\n",
       "      <td>C</td>\n",
       "      <td>0.553571</td>\n",
       "    </tr>\n",
       "    <tr>\n",
       "      <th>1</th>\n",
       "      <td>Q</td>\n",
       "      <td>0.389610</td>\n",
       "    </tr>\n",
       "    <tr>\n",
       "      <th>2</th>\n",
       "      <td>S</td>\n",
       "      <td>0.336957</td>\n",
       "    </tr>\n",
       "  </tbody>\n",
       "</table>\n",
       "</div>"
      ],
      "text/plain": [
       "  Embarked  Survived\n",
       "0        C  0.553571\n",
       "1        Q  0.389610\n",
       "2        S  0.336957"
      ]
     },
     "execution_count": 90,
     "metadata": {},
     "output_type": "execute_result"
    }
   ],
   "source": [
    "data[['Embarked', 'Survived']].groupby(['Embarked'], as_index=False).mean()"
   ]
  },
  {
   "cell_type": "code",
   "execution_count": 5,
   "metadata": {
    "collapsed": false
   },
   "outputs": [
    {
     "data": {
      "image/png": "[encoded data removed]",
      "text/plain": [
       "<matplotlib.figure.Figure at 0x1f655ed3ef0>"
      ]
     },
     "metadata": {},
     "output_type": "display_data"
    }
   ],
   "source": [
    "plt.figure(figsize=(7,7), dpi=100)\n",
    "correlation = data.corr()\n",
    "sns.heatmap(correlation, cmap='YlGnBu', annot=True)\n",
    "plt.show()"
   ]
  },
  {
   "cell_type": "code",
   "execution_count": 108,
   "metadata": {
    "collapsed": false
   },
   "outputs": [
    {
     "data": {
      "text/plain": [
       "PassengerId   -0.005007\n",
       "Survived       1.000000\n",
       "Pclass        -0.338481\n",
       "Age           -0.077221\n",
       "SibSp         -0.035322\n",
       "Parch          0.081629\n",
       "Fare           0.257307\n",
       "Name: Survived, dtype: float64"
      ]
     },
     "execution_count": 108,
     "metadata": {},
     "output_type": "execute_result"
    }
   ],
   "source": [
    "correlation['Survived']"
   ]
  },
  {
   "cell_type": "markdown",
   "metadata": {},
   "source": [
    "- Ticket Price and Passenger Class highly correlated with survival\n",
    "- Age slightly correlated with survival\n",
    "- PassengerID not correlated with survival"
   ]
  },
  {
   "cell_type": "markdown",
   "metadata": {},
   "source": [
    "### Modify Data\n",
    "\n",
    "- Translate categorical into numerical data\n",
    "- Remove cabin, name PassengerID and ticket information"
   ]
  },
  {
   "cell_type": "code",
   "execution_count": 108,
   "metadata": {
    "collapsed": false
   },
   "outputs": [
    {
     "name": "stdout",
     "output_type": "stream",
     "text": [
      "<class 'pandas.core.frame.DataFrame'>\n",
      "RangeIndex: 891 entries, 0 to 890\n",
      "Data columns (total 8 columns):\n",
      "Survived    891 non-null int64\n",
      "Pclass      891 non-null int64\n",
      "Sex         891 non-null object\n",
      "Age         714 non-null float64\n",
      "SibSp       891 non-null int64\n",
      "Parch       891 non-null int64\n",
      "Fare        891 non-null float64\n",
      "Embarked    889 non-null object\n",
      "dtypes: float64(2), int64(4), object(2)\n",
      "memory usage: 55.8+ KB\n"
     ]
    }
   ],
   "source": [
    "for key in ['Ticket', 'Name', 'Cabin', 'PassengerId']:\n",
    "    if key in data.columns:\n",
    "        data.drop([key], axis=1, inplace=True)\n",
    "data.info()"
   ]
  },
  {
   "cell_type": "code",
   "execution_count": 109,
   "metadata": {
    "collapsed": false
   },
   "outputs": [
    {
     "data": {
      "text/html": [
       "<div>\n",
       "<style>\n",
       "    .dataframe thead tr:only-child th {\n",
       "        text-align: right;\n",
       "    }\n",
       "\n",
       "    .dataframe thead th {\n",
       "        text-align: left;\n",
       "    }\n",
       "\n",
       "    .dataframe tbody tr th {\n",
       "        vertical-align: top;\n",
       "    }\n",
       "</style>\n",
       "<table border=\"1\" class=\"dataframe\">\n",
       "  <thead>\n",
       "    <tr style=\"text-align: right;\">\n",
       "      <th></th>\n",
       "      <th>Survived</th>\n",
       "      <th>Pclass</th>\n",
       "      <th>Age</th>\n",
       "      <th>SibSp</th>\n",
       "      <th>Parch</th>\n",
       "      <th>Fare</th>\n",
       "      <th>Sex_male</th>\n",
       "      <th>Embarked_Q</th>\n",
       "      <th>Embarked_S</th>\n",
       "    </tr>\n",
       "  </thead>\n",
       "  <tbody>\n",
       "    <tr>\n",
       "      <th>0</th>\n",
       "      <td>0</td>\n",
       "      <td>3</td>\n",
       "      <td>22.0</td>\n",
       "      <td>1</td>\n",
       "      <td>0</td>\n",
       "      <td>7.2500</td>\n",
       "      <td>1</td>\n",
       "      <td>0</td>\n",
       "      <td>1</td>\n",
       "    </tr>\n",
       "    <tr>\n",
       "      <th>1</th>\n",
       "      <td>1</td>\n",
       "      <td>1</td>\n",
       "      <td>38.0</td>\n",
       "      <td>1</td>\n",
       "      <td>0</td>\n",
       "      <td>71.2833</td>\n",
       "      <td>0</td>\n",
       "      <td>0</td>\n",
       "      <td>0</td>\n",
       "    </tr>\n",
       "    <tr>\n",
       "      <th>2</th>\n",
       "      <td>1</td>\n",
       "      <td>3</td>\n",
       "      <td>26.0</td>\n",
       "      <td>0</td>\n",
       "      <td>0</td>\n",
       "      <td>7.9250</td>\n",
       "      <td>0</td>\n",
       "      <td>0</td>\n",
       "      <td>1</td>\n",
       "    </tr>\n",
       "    <tr>\n",
       "      <th>3</th>\n",
       "      <td>1</td>\n",
       "      <td>1</td>\n",
       "      <td>35.0</td>\n",
       "      <td>1</td>\n",
       "      <td>0</td>\n",
       "      <td>53.1000</td>\n",
       "      <td>0</td>\n",
       "      <td>0</td>\n",
       "      <td>1</td>\n",
       "    </tr>\n",
       "    <tr>\n",
       "      <th>4</th>\n",
       "      <td>0</td>\n",
       "      <td>3</td>\n",
       "      <td>35.0</td>\n",
       "      <td>0</td>\n",
       "      <td>0</td>\n",
       "      <td>8.0500</td>\n",
       "      <td>1</td>\n",
       "      <td>0</td>\n",
       "      <td>1</td>\n",
       "    </tr>\n",
       "  </tbody>\n",
       "</table>\n",
       "</div>"
      ],
      "text/plain": [
       "   Survived  Pclass   Age  SibSp  Parch     Fare  Sex_male  Embarked_Q  \\\n",
       "0         0       3  22.0      1      0   7.2500         1           0   \n",
       "1         1       1  38.0      1      0  71.2833         0           0   \n",
       "2         1       3  26.0      0      0   7.9250         0           0   \n",
       "3         1       1  35.0      1      0  53.1000         0           0   \n",
       "4         0       3  35.0      0      0   8.0500         1           0   \n",
       "\n",
       "   Embarked_S  \n",
       "0           1  \n",
       "1           0  \n",
       "2           1  \n",
       "3           1  \n",
       "4           1  "
      ]
     },
     "execution_count": 109,
     "metadata": {},
     "output_type": "execute_result"
    }
   ],
   "source": [
    "data = pd.get_dummies(data, drop_first=True)\n",
    "data.head()"
   ]
  },
  {
   "cell_type": "markdown",
   "metadata": {},
   "source": [
    "#### Calculate Correlation including categorical data"
   ]
  },
  {
   "cell_type": "code",
   "execution_count": 9,
   "metadata": {
    "collapsed": false
   },
   "outputs": [
    {
     "data": {
      "image/png": "[encoded data removed]",
      "text/plain": [
       "<matplotlib.figure.Figure at 0x1f65618e080>"
      ]
     },
     "metadata": {},
     "output_type": "display_data"
    }
   ],
   "source": [
    "correlation_cat = data.corr()\n",
    "plt.figure(figsize=(7,7), dpi=100)\n",
    "sns.heatmap(correlation_cat, cmap='YlGnBu', annot=True)\n",
    "plt.show()"
   ]
  },
  {
   "cell_type": "code",
   "execution_count": 10,
   "metadata": {
    "collapsed": false
   },
   "outputs": [
    {
     "data": {
      "text/plain": [
       "Survived      1.000000\n",
       "Pclass       -0.338481\n",
       "Age          -0.077221\n",
       "SibSp        -0.035322\n",
       "Parch         0.081629\n",
       "Fare          0.257307\n",
       "Sex_male     -0.543351\n",
       "Embarked_Q    0.003650\n",
       "Embarked_S   -0.155660\n",
       "Name: Survived, dtype: float64"
      ]
     },
     "execution_count": 10,
     "metadata": {},
     "output_type": "execute_result"
    }
   ],
   "source": [
    "correlation_cat['Survived']"
   ]
  },
  {
   "cell_type": "markdown",
   "metadata": {},
   "source": [
    "### Estimating missing age values\n",
    "Age is slightly gaussian distributed:\n",
    "$$\\mu_{age}=29.7$$, $$\\sigma_{age}=14.5$$\n",
    "Idea: Using subsets of age with corresponding class and sex values to generate random values for missing age-values, so:\n",
    "$$Age(sex=male, class=1) \\sim \\mathcal{N}(\\mu_{male,1}, \\sigma_{male,1})$$\n",
    "with $$\\mu_{sex, class}$$ and $$\\sigma_{sex, class}$$ describing the mean and standard deviation of age for this sex and class"
   ]
  },
  {
   "cell_type": "code",
   "execution_count": 148,
   "metadata": {
    "collapsed": false
   },
   "outputs": [
    {
     "data": {
      "image/png": "[encoded data removed]",
      "text/plain": [
       "<matplotlib.figure.Figure at 0x1f8f063f9b0>"
      ]
     },
     "metadata": {},
     "output_type": "display_data"
    }
   ],
   "source": [
    "sns.distplot(data_clean['Age'].dropna(), kde=False)\n",
    "plt.show()"
   ]
  },
  {
   "cell_type": "code",
   "execution_count": 90,
   "metadata": {
    "collapsed": false
   },
   "outputs": [],
   "source": [
    "male_c1 = data[(data['Sex_male']==1) & (data['Pclass']==1)]['Age']\n",
    "male_c2 = data[(data['Sex_male']==1) & (data['Pclass']==2)]['Age']\n",
    "male_c3 = data[(data['Sex_male']==1) & (data['Pclass']==3)]['Age']\n",
    "female_c1 = data[(data['Sex_male']==0) & (data['Pclass']==1)]['Age']\n",
    "female_c2 = data[(data['Sex_male']==0) & (data['Pclass']==2)]['Age']\n",
    "female_c3 = data[(data['Sex_male']==0) & (data['Pclass']==3)]['Age']\n",
    "\n",
    "mean_male_c1 = np.mean(male_c1.dropna())\n",
    "std_male_c1 = np.std(male_c1.dropna())\n",
    "mean_male_c2 = np.mean(male_c2.dropna())\n",
    "std_male_c2 = np.std(male_c2.dropna())\n",
    "mean_male_c3 = np.mean(male_c3.dropna())\n",
    "std_male_c3 = np.std(male_c3.dropna())\n",
    "\n",
    "mean_female_c1 = np.mean(female_c1.dropna())\n",
    "std_female_c1 = np.std(female_c1.dropna())\n",
    "mean_female_c2 = np.mean(female_c2.dropna())\n",
    "std_female_c2 = np.std(female_c2.dropna())\n",
    "mean_female_c3 = np.mean(female_c3.dropna())\n",
    "std_female_c3 = np.std(female_c3.dropna())"
   ]
  },
  {
   "cell_type": "code",
   "execution_count": 91,
   "metadata": {
    "collapsed": false
   },
   "outputs": [
    {
     "data": {
      "image/png": "[encoded data removed]",
      "text/plain": [
       "<matplotlib.figure.Figure at 0x1f656286e48>"
      ]
     },
     "metadata": {},
     "output_type": "display_data"
    }
   ],
   "source": [
    "fig, ax = plt.subplots(3,2, figsize=(10,10))\n",
    "sns.distplot(male_c1.dropna(), label='Mean=%.3f - STD=%.3f' %(mean_male_c1, std_male_c1), kde=False, ax=ax[0][0])\n",
    "ax[0][0].legend()\n",
    "ax[0][0].set_title('Male, Class 1')\n",
    "sns.distplot(male_c2.dropna(), label='Mean=%.3f - STD=%.3f' %(mean_male_c2, std_male_c2), kde=False, ax=ax[1][0])\n",
    "ax[1][0].legend()\n",
    "ax[1][0].set_title('Male, Class 2')\n",
    "sns.distplot(male_c3.dropna(), label='Mean=%.3f - STD=%.3f' %(mean_male_c3, std_male_c3), kde=False, ax=ax[2][0])\n",
    "ax[2][0].legend()\n",
    "ax[2][0].set_title('Male, Class 3')\n",
    "sns.distplot(female_c1.dropna(), label='Mean=%.3f - STD=%.3f' %(mean_female_c1, std_female_c1), kde=False, ax=ax[0][1])\n",
    "ax[0][1].legend()\n",
    "ax[0][1].set_title('Female, Class 1')\n",
    "sns.distplot(female_c2.dropna(), label='Mean=%.3f - STD=%.3f' %(mean_female_c2, std_female_c2), kde=False, ax=ax[1][1])\n",
    "ax[1][1].legend()\n",
    "ax[1][1].set_title('Female, Class 2')\n",
    "sns.distplot(female_c3.dropna(), label='Mean=%.3f - STD=%.3f' %(mean_female_c3, std_female_c3), kde=False, ax=ax[2][1])\n",
    "ax[2][1].legend()\n",
    "ax[2][1].set_title('Female, Class 3')\n",
    "\n",
    "\n",
    "plt.tight_layout()\n",
    "plt.show()"
   ]
  },
  {
   "cell_type": "code",
   "execution_count": 152,
   "metadata": {
    "collapsed": false
   },
   "outputs": [],
   "source": [
    "def replace_age(data, sex, Pclass, mean, std, sex_key='Sex'):\n",
    "    '''\n",
    "    Replaces all nan-values for age in data with corresponding sex and Pclass with random values,\n",
    "    taken from a gaussian distribution with parameters mean and std\n",
    "\n",
    "    Parameters\n",
    "    ----------\n",
    "    data : DataFrame\n",
    "    sex : string ('male' or 'female')\n",
    "    Pclass : int (1, 2 or 3)\n",
    "    mean : float\n",
    "    std : float\n",
    "\n",
    "    Output\n",
    "    ------\n",
    "    data : DataFrame\n",
    "    '''\n",
    "    \n",
    "    subset = data[(data[sex_key]==sex) & (data['Pclass']==Pclass)]\n",
    "    idx = subset[subset['Age'].isnull()].index\n",
    "    n_missing = len(subset[subset['Age'].isnull()])\n",
    "    rand = np.random.normal(loc=mean, scale=std, size=[n_missing, ])\n",
    "    print('%i missing values detected' %n_missing)\n",
    "    for i, ind in enumerate(idx):\n",
    "        data.loc[ind, 'Age'] = int(rand[i])\n",
    "        subset.loc[ind, 'Age'] = int(rand[i])\n",
    "    print('%i missing values remaining' %len(subset[subset['Age'].isnull()]))\n",
    "    return data"
   ]
  },
  {
   "cell_type": "code",
   "execution_count": 110,
   "metadata": {
    "collapsed": false
   },
   "outputs": [
    {
     "name": "stdout",
     "output_type": "stream",
     "text": [
      "21 missing values detected\n"
     ]
    },
    {
     "name": "stderr",
     "output_type": "stream",
     "text": [
      "C:\\Users\\mail\\Anaconda3\\lib\\site-packages\\pandas\\core\\indexing.py:517: SettingWithCopyWarning: \n",
      "A value is trying to be set on a copy of a slice from a DataFrame.\n",
      "Try using .loc[row_indexer,col_indexer] = value instead\n",
      "\n",
      "See the caveats in the documentation: http://pandas.pydata.org/pandas-docs/stable/indexing.html#indexing-view-versus-copy\n",
      "  self.obj[item] = s\n"
     ]
    },
    {
     "name": "stdout",
     "output_type": "stream",
     "text": [
      "0 missing values remaining\n",
      "9 missing values detected\n",
      "0 missing values remaining\n",
      "94 missing values detected\n",
      "0 missing values remaining\n",
      "9 missing values detected\n",
      "0 missing values remaining\n",
      "2 missing values detected\n",
      "0 missing values remaining\n",
      "42 missing values detected\n",
      "0 missing values remaining\n"
     ]
    }
   ],
   "source": [
    "data = replace_age(data, sex=1, Pclass=1, mean=mean_male_c1, std=std_male_c1)\n",
    "data = replace_age(data, sex=1, Pclass=2, mean=mean_male_c2, std=std_male_c2)\n",
    "data = replace_age(data, sex=1, Pclass=3, mean=mean_male_c3, std=std_male_c3)\n",
    "data = replace_age(data, sex=0, Pclass=1, mean=mean_female_c1, std=std_female_c1)\n",
    "data = replace_age(data, sex=0, Pclass=2, mean=mean_female_c2, std=std_female_c2)\n",
    "data = replace_age(data, sex=0, Pclass=3, mean=mean_female_c3, std=std_female_c3)\n"
   ]
  },
  {
   "cell_type": "code",
   "execution_count": 115,
   "metadata": {
    "collapsed": false
   },
   "outputs": [
    {
     "name": "stdout",
     "output_type": "stream",
     "text": [
      "Survived      1.000000\n",
      "Pclass       -0.338481\n",
      "Age          -0.052639\n",
      "SibSp        -0.035322\n",
      "Parch         0.081629\n",
      "Fare          0.257307\n",
      "Sex_male     -0.543351\n",
      "Embarked_Q    0.003650\n",
      "Embarked_S   -0.155660\n",
      "Name: Survived, dtype: float64\n"
     ]
    }
   ],
   "source": [
    "correlation = data.corr()\n",
    "print(correlation['Survived'])"
   ]
  },
  {
   "cell_type": "markdown",
   "metadata": {},
   "source": [
    "Age has still very low correlation with survival, maybe create agegroups instead, but how many?\n",
    "Let's try 3 different sets: 3 groups, 5 groups and 8 groups and look at their correlation"
   ]
  },
  {
   "cell_type": "code",
   "execution_count": 121,
   "metadata": {
    "collapsed": false
   },
   "outputs": [
    {
     "data": {
      "text/html": [
       "<div>\n",
       "<style>\n",
       "    .dataframe thead tr:only-child th {\n",
       "        text-align: right;\n",
       "    }\n",
       "\n",
       "    .dataframe thead th {\n",
       "        text-align: left;\n",
       "    }\n",
       "\n",
       "    .dataframe tbody tr th {\n",
       "        vertical-align: top;\n",
       "    }\n",
       "</style>\n",
       "<table border=\"1\" class=\"dataframe\">\n",
       "  <thead>\n",
       "    <tr style=\"text-align: right;\">\n",
       "      <th></th>\n",
       "      <th>3 Age Groups</th>\n",
       "      <th>Survived</th>\n",
       "    </tr>\n",
       "  </thead>\n",
       "  <tbody>\n",
       "    <tr>\n",
       "      <th>0</th>\n",
       "      <td>(-4.084, 24.0]</td>\n",
       "      <td>0.395415</td>\n",
       "    </tr>\n",
       "    <tr>\n",
       "      <th>1</th>\n",
       "      <td>(24.0, 52.0]</td>\n",
       "      <td>0.380165</td>\n",
       "    </tr>\n",
       "    <tr>\n",
       "      <th>2</th>\n",
       "      <td>(52.0, 80.0]</td>\n",
       "      <td>0.344828</td>\n",
       "    </tr>\n",
       "  </tbody>\n",
       "</table>\n",
       "</div>"
      ],
      "text/plain": [
       "     3 Age Groups  Survived\n",
       "0  (-4.084, 24.0]  0.395415\n",
       "1    (24.0, 52.0]  0.380165\n",
       "2    (52.0, 80.0]  0.344828"
      ]
     },
     "execution_count": 121,
     "metadata": {},
     "output_type": "execute_result"
    }
   ],
   "source": [
    "data['3 Age Groups'] = pd.cut(data['Age'], 3)\n",
    "data['5 Age Groups'] = pd.cut(data['Age'], 5)\n",
    "data['8 Age Groups'] = pd.cut(data['Age'], 8)\n",
    "\n",
    "data[['3 Age Groups', 'Survived']].groupby(['3 Age Groups'], as_index=False).mean()"
   ]
  },
  {
   "cell_type": "code",
   "execution_count": 122,
   "metadata": {
    "collapsed": false
   },
   "outputs": [
    {
     "data": {
      "text/html": [
       "<div>\n",
       "<style>\n",
       "    .dataframe thead tr:only-child th {\n",
       "        text-align: right;\n",
       "    }\n",
       "\n",
       "    .dataframe thead th {\n",
       "        text-align: left;\n",
       "    }\n",
       "\n",
       "    .dataframe tbody tr th {\n",
       "        vertical-align: top;\n",
       "    }\n",
       "</style>\n",
       "<table border=\"1\" class=\"dataframe\">\n",
       "  <thead>\n",
       "    <tr style=\"text-align: right;\">\n",
       "      <th></th>\n",
       "      <th>5 Age Groups</th>\n",
       "      <th>Survived</th>\n",
       "    </tr>\n",
       "  </thead>\n",
       "  <tbody>\n",
       "    <tr>\n",
       "      <th>0</th>\n",
       "      <td>(-4.084, 12.8]</td>\n",
       "      <td>0.528090</td>\n",
       "    </tr>\n",
       "    <tr>\n",
       "      <th>1</th>\n",
       "      <td>(12.8, 29.6]</td>\n",
       "      <td>0.351010</td>\n",
       "    </tr>\n",
       "    <tr>\n",
       "      <th>2</th>\n",
       "      <td>(29.6, 46.4]</td>\n",
       "      <td>0.385666</td>\n",
       "    </tr>\n",
       "    <tr>\n",
       "      <th>3</th>\n",
       "      <td>(46.4, 63.2]</td>\n",
       "      <td>0.414141</td>\n",
       "    </tr>\n",
       "    <tr>\n",
       "      <th>4</th>\n",
       "      <td>(63.2, 80.0]</td>\n",
       "      <td>0.142857</td>\n",
       "    </tr>\n",
       "  </tbody>\n",
       "</table>\n",
       "</div>"
      ],
      "text/plain": [
       "     5 Age Groups  Survived\n",
       "0  (-4.084, 12.8]  0.528090\n",
       "1    (12.8, 29.6]  0.351010\n",
       "2    (29.6, 46.4]  0.385666\n",
       "3    (46.4, 63.2]  0.414141\n",
       "4    (63.2, 80.0]  0.142857"
      ]
     },
     "execution_count": 122,
     "metadata": {},
     "output_type": "execute_result"
    }
   ],
   "source": [
    "data[['5 Age Groups', 'Survived']].groupby(['5 Age Groups'], as_index=False).mean()"
   ]
  },
  {
   "cell_type": "code",
   "execution_count": 123,
   "metadata": {
    "collapsed": false
   },
   "outputs": [
    {
     "data": {
      "text/html": [
       "<div>\n",
       "<style>\n",
       "    .dataframe thead tr:only-child th {\n",
       "        text-align: right;\n",
       "    }\n",
       "\n",
       "    .dataframe thead th {\n",
       "        text-align: left;\n",
       "    }\n",
       "\n",
       "    .dataframe tbody tr th {\n",
       "        vertical-align: top;\n",
       "    }\n",
       "</style>\n",
       "<table border=\"1\" class=\"dataframe\">\n",
       "  <thead>\n",
       "    <tr style=\"text-align: right;\">\n",
       "      <th></th>\n",
       "      <th>8 Age Groups</th>\n",
       "      <th>Survived</th>\n",
       "    </tr>\n",
       "  </thead>\n",
       "  <tbody>\n",
       "    <tr>\n",
       "      <th>0</th>\n",
       "      <td>(-4.084, 6.5]</td>\n",
       "      <td>0.596774</td>\n",
       "    </tr>\n",
       "    <tr>\n",
       "      <th>1</th>\n",
       "      <td>(6.5, 17.0]</td>\n",
       "      <td>0.373626</td>\n",
       "    </tr>\n",
       "    <tr>\n",
       "      <th>2</th>\n",
       "      <td>(17.0, 27.5]</td>\n",
       "      <td>0.360000</td>\n",
       "    </tr>\n",
       "    <tr>\n",
       "      <th>3</th>\n",
       "      <td>(27.5, 38.0]</td>\n",
       "      <td>0.386179</td>\n",
       "    </tr>\n",
       "    <tr>\n",
       "      <th>4</th>\n",
       "      <td>(38.0, 48.5]</td>\n",
       "      <td>0.338710</td>\n",
       "    </tr>\n",
       "    <tr>\n",
       "      <th>5</th>\n",
       "      <td>(48.5, 59.0]</td>\n",
       "      <td>0.406250</td>\n",
       "    </tr>\n",
       "    <tr>\n",
       "      <th>6</th>\n",
       "      <td>(59.0, 69.5]</td>\n",
       "      <td>0.333333</td>\n",
       "    </tr>\n",
       "    <tr>\n",
       "      <th>7</th>\n",
       "      <td>(69.5, 80.0]</td>\n",
       "      <td>0.250000</td>\n",
       "    </tr>\n",
       "  </tbody>\n",
       "</table>\n",
       "</div>"
      ],
      "text/plain": [
       "    8 Age Groups  Survived\n",
       "0  (-4.084, 6.5]  0.596774\n",
       "1    (6.5, 17.0]  0.373626\n",
       "2   (17.0, 27.5]  0.360000\n",
       "3   (27.5, 38.0]  0.386179\n",
       "4   (38.0, 48.5]  0.338710\n",
       "5   (48.5, 59.0]  0.406250\n",
       "6   (59.0, 69.5]  0.333333\n",
       "7   (69.5, 80.0]  0.250000"
      ]
     },
     "execution_count": 123,
     "metadata": {},
     "output_type": "execute_result"
    }
   ],
   "source": [
    "data[['8 Age Groups', 'Survived']].groupby(['8 Age Groups'], as_index=False).mean()"
   ]
  },
  {
   "cell_type": "markdown",
   "metadata": {},
   "source": [
    "8 Age groups show good correlations with survival, but all have higher correlation than the rare age-value!\n",
    "- Replace Age by Age-Group\n",
    "- Try similar grouping for fare\n"
   ]
  },
  {
   "cell_type": "code",
   "execution_count": 127,
   "metadata": {
    "collapsed": false
   },
   "outputs": [
    {
     "name": "stdout",
     "output_type": "stream",
     "text": [
      "<class 'pandas.core.frame.DataFrame'>\n",
      "RangeIndex: 891 entries, 0 to 890\n",
      "Data columns (total 16 columns):\n",
      "Survived                      891 non-null int64\n",
      "Pclass                        891 non-null int64\n",
      "SibSp                         891 non-null int64\n",
      "Parch                         891 non-null int64\n",
      "Fare                          891 non-null float64\n",
      "Sex_male                      891 non-null uint8\n",
      "Embarked_Q                    891 non-null uint8\n",
      "Embarked_S                    891 non-null uint8\n",
      "8 Age Groups_(-4.084, 6.5]    891 non-null uint8\n",
      "8 Age Groups_(6.5, 17.0]      891 non-null uint8\n",
      "8 Age Groups_(17.0, 27.5]     891 non-null uint8\n",
      "8 Age Groups_(27.5, 38.0]     891 non-null uint8\n",
      "8 Age Groups_(38.0, 48.5]     891 non-null uint8\n",
      "8 Age Groups_(48.5, 59.0]     891 non-null uint8\n",
      "8 Age Groups_(59.0, 69.5]     891 non-null uint8\n",
      "8 Age Groups_(69.5, 80.0]     891 non-null uint8\n",
      "dtypes: float64(1), int64(4), uint8(11)\n",
      "memory usage: 44.5 KB\n"
     ]
    }
   ],
   "source": [
    "for key in ['3 Age Groups', '5 Age Groups', 'Age']:\n",
    "    if key in data.columns:\n",
    "        data.drop([key], axis=1, inplace=True)\n",
    "data = pd.get_dummies(data)\n",
    "data.info()"
   ]
  },
  {
   "cell_type": "code",
   "execution_count": 128,
   "metadata": {
    "collapsed": false
   },
   "outputs": [
    {
     "data": {
      "text/html": [
       "<div>\n",
       "<style>\n",
       "    .dataframe thead tr:only-child th {\n",
       "        text-align: right;\n",
       "    }\n",
       "\n",
       "    .dataframe thead th {\n",
       "        text-align: left;\n",
       "    }\n",
       "\n",
       "    .dataframe tbody tr th {\n",
       "        vertical-align: top;\n",
       "    }\n",
       "</style>\n",
       "<table border=\"1\" class=\"dataframe\">\n",
       "  <thead>\n",
       "    <tr style=\"text-align: right;\">\n",
       "      <th></th>\n",
       "      <th>3 Fare Groups</th>\n",
       "      <th>Survived</th>\n",
       "    </tr>\n",
       "  </thead>\n",
       "  <tbody>\n",
       "    <tr>\n",
       "      <th>0</th>\n",
       "      <td>(-0.512, 170.776]</td>\n",
       "      <td>0.376579</td>\n",
       "    </tr>\n",
       "    <tr>\n",
       "      <th>1</th>\n",
       "      <td>(170.776, 341.553]</td>\n",
       "      <td>0.647059</td>\n",
       "    </tr>\n",
       "    <tr>\n",
       "      <th>2</th>\n",
       "      <td>(341.553, 512.329]</td>\n",
       "      <td>1.000000</td>\n",
       "    </tr>\n",
       "  </tbody>\n",
       "</table>\n",
       "</div>"
      ],
      "text/plain": [
       "        3 Fare Groups  Survived\n",
       "0   (-0.512, 170.776]  0.376579\n",
       "1  (170.776, 341.553]  0.647059\n",
       "2  (341.553, 512.329]  1.000000"
      ]
     },
     "execution_count": 128,
     "metadata": {},
     "output_type": "execute_result"
    }
   ],
   "source": [
    "data['3 Fare Groups'] = pd.cut(data['Fare'], 3)\n",
    "data['5 Fare Groups'] = pd.cut(data['Fare'], 5)\n",
    "data['8 Fare Groups'] = pd.cut(data['Fare'], 8)\n",
    "\n",
    "data[['3 Fare Groups', 'Survived']].groupby(['3 Fare Groups'], as_index=False).mean()"
   ]
  },
  {
   "cell_type": "code",
   "execution_count": 129,
   "metadata": {
    "collapsed": false
   },
   "outputs": [
    {
     "data": {
      "text/html": [
       "<div>\n",
       "<style>\n",
       "    .dataframe thead tr:only-child th {\n",
       "        text-align: right;\n",
       "    }\n",
       "\n",
       "    .dataframe thead th {\n",
       "        text-align: left;\n",
       "    }\n",
       "\n",
       "    .dataframe tbody tr th {\n",
       "        vertical-align: top;\n",
       "    }\n",
       "</style>\n",
       "<table border=\"1\" class=\"dataframe\">\n",
       "  <thead>\n",
       "    <tr style=\"text-align: right;\">\n",
       "      <th></th>\n",
       "      <th>5 Fare Groups</th>\n",
       "      <th>Survived</th>\n",
       "    </tr>\n",
       "  </thead>\n",
       "  <tbody>\n",
       "    <tr>\n",
       "      <th>0</th>\n",
       "      <td>(-0.512, 102.466]</td>\n",
       "      <td>0.361575</td>\n",
       "    </tr>\n",
       "    <tr>\n",
       "      <th>1</th>\n",
       "      <td>(102.466, 204.932]</td>\n",
       "      <td>0.757576</td>\n",
       "    </tr>\n",
       "    <tr>\n",
       "      <th>2</th>\n",
       "      <td>(204.932, 307.398]</td>\n",
       "      <td>0.647059</td>\n",
       "    </tr>\n",
       "    <tr>\n",
       "      <th>3</th>\n",
       "      <td>(307.398, 409.863]</td>\n",
       "      <td>NaN</td>\n",
       "    </tr>\n",
       "    <tr>\n",
       "      <th>4</th>\n",
       "      <td>(409.863, 512.329]</td>\n",
       "      <td>1.000000</td>\n",
       "    </tr>\n",
       "  </tbody>\n",
       "</table>\n",
       "</div>"
      ],
      "text/plain": [
       "        5 Fare Groups  Survived\n",
       "0   (-0.512, 102.466]  0.361575\n",
       "1  (102.466, 204.932]  0.757576\n",
       "2  (204.932, 307.398]  0.647059\n",
       "3  (307.398, 409.863]       NaN\n",
       "4  (409.863, 512.329]  1.000000"
      ]
     },
     "execution_count": 129,
     "metadata": {},
     "output_type": "execute_result"
    }
   ],
   "source": [
    "data[['5 Fare Groups', 'Survived']].groupby(['5 Fare Groups'], as_index=False).mean()"
   ]
  },
  {
   "cell_type": "code",
   "execution_count": 130,
   "metadata": {
    "collapsed": false
   },
   "outputs": [
    {
     "data": {
      "text/html": [
       "<div>\n",
       "<style>\n",
       "    .dataframe thead tr:only-child th {\n",
       "        text-align: right;\n",
       "    }\n",
       "\n",
       "    .dataframe thead th {\n",
       "        text-align: left;\n",
       "    }\n",
       "\n",
       "    .dataframe tbody tr th {\n",
       "        vertical-align: top;\n",
       "    }\n",
       "</style>\n",
       "<table border=\"1\" class=\"dataframe\">\n",
       "  <thead>\n",
       "    <tr style=\"text-align: right;\">\n",
       "      <th></th>\n",
       "      <th>8 Fare Groups</th>\n",
       "      <th>Survived</th>\n",
       "    </tr>\n",
       "  </thead>\n",
       "  <tbody>\n",
       "    <tr>\n",
       "      <th>0</th>\n",
       "      <td>(-0.512, 64.041]</td>\n",
       "      <td>0.337646</td>\n",
       "    </tr>\n",
       "    <tr>\n",
       "      <th>1</th>\n",
       "      <td>(64.041, 128.082]</td>\n",
       "      <td>0.662500</td>\n",
       "    </tr>\n",
       "    <tr>\n",
       "      <th>2</th>\n",
       "      <td>(128.082, 192.123]</td>\n",
       "      <td>0.777778</td>\n",
       "    </tr>\n",
       "    <tr>\n",
       "      <th>3</th>\n",
       "      <td>(192.123, 256.165]</td>\n",
       "      <td>0.636364</td>\n",
       "    </tr>\n",
       "    <tr>\n",
       "      <th>4</th>\n",
       "      <td>(256.165, 320.206]</td>\n",
       "      <td>0.666667</td>\n",
       "    </tr>\n",
       "    <tr>\n",
       "      <th>5</th>\n",
       "      <td>(320.206, 384.247]</td>\n",
       "      <td>NaN</td>\n",
       "    </tr>\n",
       "    <tr>\n",
       "      <th>6</th>\n",
       "      <td>(384.247, 448.288]</td>\n",
       "      <td>NaN</td>\n",
       "    </tr>\n",
       "    <tr>\n",
       "      <th>7</th>\n",
       "      <td>(448.288, 512.329]</td>\n",
       "      <td>1.000000</td>\n",
       "    </tr>\n",
       "  </tbody>\n",
       "</table>\n",
       "</div>"
      ],
      "text/plain": [
       "        8 Fare Groups  Survived\n",
       "0    (-0.512, 64.041]  0.337646\n",
       "1   (64.041, 128.082]  0.662500\n",
       "2  (128.082, 192.123]  0.777778\n",
       "3  (192.123, 256.165]  0.636364\n",
       "4  (256.165, 320.206]  0.666667\n",
       "5  (320.206, 384.247]       NaN\n",
       "6  (384.247, 448.288]       NaN\n",
       "7  (448.288, 512.329]  1.000000"
      ]
     },
     "execution_count": 130,
     "metadata": {},
     "output_type": "execute_result"
    }
   ],
   "source": [
    "data[['8 Fare Groups', 'Survived']].groupby(['8 Fare Groups'], as_index=False).mean()"
   ]
  },
  {
   "cell_type": "markdown",
   "metadata": {},
   "source": [
    "There seems to be a too big gap between the lower fares (300 and lower) and the higher ones (No entries for the NaN-categories). Therefore, divide Fare into three groups with good correlation"
   ]
  },
  {
   "cell_type": "code",
   "execution_count": 133,
   "metadata": {
    "collapsed": false
   },
   "outputs": [
    {
     "name": "stdout",
     "output_type": "stream",
     "text": [
      "<class 'pandas.core.frame.DataFrame'>\n",
      "RangeIndex: 891 entries, 0 to 890\n",
      "Data columns (total 18 columns):\n",
      "Survived                            891 non-null int64\n",
      "Pclass                              891 non-null int64\n",
      "SibSp                               891 non-null int64\n",
      "Parch                               891 non-null int64\n",
      "Sex_male                            891 non-null uint8\n",
      "Embarked_Q                          891 non-null uint8\n",
      "Embarked_S                          891 non-null uint8\n",
      "8 Age Groups_(-4.084, 6.5]          891 non-null uint8\n",
      "8 Age Groups_(6.5, 17.0]            891 non-null uint8\n",
      "8 Age Groups_(17.0, 27.5]           891 non-null uint8\n",
      "8 Age Groups_(27.5, 38.0]           891 non-null uint8\n",
      "8 Age Groups_(38.0, 48.5]           891 non-null uint8\n",
      "8 Age Groups_(48.5, 59.0]           891 non-null uint8\n",
      "8 Age Groups_(59.0, 69.5]           891 non-null uint8\n",
      "8 Age Groups_(69.5, 80.0]           891 non-null uint8\n",
      "3 Fare Groups_(-0.512, 170.776]     891 non-null uint8\n",
      "3 Fare Groups_(170.776, 341.553]    891 non-null uint8\n",
      "3 Fare Groups_(341.553, 512.329]    891 non-null uint8\n",
      "dtypes: int64(4), uint8(14)\n",
      "memory usage: 40.1 KB\n"
     ]
    }
   ],
   "source": [
    "for key in ['5 Fare Groups', '8 Fare Groups', 'Fare']:\n",
    "    if key in data.columns:\n",
    "        data.drop([key], axis=1, inplace=True)\n",
    "data = pd.get_dummies(data)\n",
    "data.info()"
   ]
  },
  {
   "cell_type": "code",
   "execution_count": 134,
   "metadata": {
    "collapsed": false
   },
   "outputs": [
    {
     "name": "stdout",
     "output_type": "stream",
     "text": [
      "Survived                            1.000000\n",
      "Pclass                             -0.338481\n",
      "SibSp                              -0.035322\n",
      "Parch                               0.081629\n",
      "Sex_male                           -0.543351\n",
      "Embarked_Q                          0.003650\n",
      "Embarked_S                         -0.155660\n",
      "8 Age Groups_(-4.084, 6.5]          0.119742\n",
      "8 Age Groups_(6.5, 17.0]           -0.007082\n",
      "8 Age Groups_(17.0, 27.5]          -0.032752\n",
      "8 Age Groups_(27.5, 38.0]           0.002972\n",
      "8 Age Groups_(38.0, 48.5]          -0.037312\n",
      "8 Age Groups_(48.5, 59.0]           0.012820\n",
      "8 Age Groups_(59.0, 69.5]          -0.016135\n",
      "8 Age Groups_(69.5, 80.0]          -0.026195\n",
      "3 Fare Groups_(-0.512, 170.776]    -0.098513\n",
      "3 Fare Groups_(170.776, 341.553]    0.075486\n",
      "3 Fare Groups_(341.553, 512.329]    0.073642\n",
      "Name: Survived, dtype: float64\n"
     ]
    }
   ],
   "source": [
    "correlation = data.corr()\n",
    "print(correlation['Survived'])"
   ]
  },
  {
   "cell_type": "markdown",
   "metadata": {},
   "source": [
    "### Fazit\n",
    "- Removed the following parameters:\n",
    "    - Ticket\n",
    "    - Name\n",
    "    - Cabin\n",
    "    - PassengerId\n",
    "- Filled the missing Age-Values by drawing from a normal distribution with parameters corresponding to the Pclass/Sex-filtered distribution of the given Age-Values\n",
    "- Filled missing Embarked-Values with most common value (S)\n",
    "- Divided Age into eight groups\n",
    "- Divided Fare into three groups\n",
    "- Created numerical parameters for Embarked and Sex\n",
    "\n",
    "Possible Problem: 17 categories, eight of them for age, three for fare might be problematic. Convert them into only one category for each parameter (same for embarked)\n",
    "\n",
    "#### Complete Data Preparation"
   ]
  },
  {
   "cell_type": "code",
   "execution_count": 149,
   "metadata": {
    "collapsed": false
   },
   "outputs": [],
   "source": [
    "data = pd.read_csv('titanic_train.csv')"
   ]
  },
  {
   "cell_type": "code",
   "execution_count": 153,
   "metadata": {
    "collapsed": false
   },
   "outputs": [
    {
     "name": "stdout",
     "output_type": "stream",
     "text": [
      "21 missing values detected\n"
     ]
    },
    {
     "name": "stderr",
     "output_type": "stream",
     "text": [
      "C:\\Users\\mail\\Anaconda3\\lib\\site-packages\\pandas\\core\\indexing.py:517: SettingWithCopyWarning: \n",
      "A value is trying to be set on a copy of a slice from a DataFrame.\n",
      "Try using .loc[row_indexer,col_indexer] = value instead\n",
      "\n",
      "See the caveats in the documentation: http://pandas.pydata.org/pandas-docs/stable/indexing.html#indexing-view-versus-copy\n",
      "  self.obj[item] = s\n"
     ]
    },
    {
     "name": "stdout",
     "output_type": "stream",
     "text": [
      "0 missing values remaining\n",
      "9 missing values detected\n",
      "0 missing values remaining\n",
      "94 missing values detected\n",
      "0 missing values remaining\n",
      "9 missing values detected\n",
      "0 missing values remaining\n",
      "2 missing values detected\n",
      "0 missing values remaining\n",
      "42 missing values detected\n",
      "0 missing values remaining\n"
     ]
    }
   ],
   "source": [
    "# Fill missing age parameter\n",
    "male_c1 = data[(data['Sex']=='male') & (data['Pclass']==1)]['Age']\n",
    "male_c2 = data[(data['Sex']=='male') & (data['Pclass']==2)]['Age']\n",
    "male_c3 = data[(data['Sex']=='male') & (data['Pclass']==3)]['Age']\n",
    "female_c1 = data[(data['Sex']=='female') & (data['Pclass']==1)]['Age']\n",
    "female_c2 = data[(data['Sex']=='female') & (data['Pclass']==2)]['Age']\n",
    "female_c3 = data[(data['Sex']=='female') & (data['Pclass']==3)]['Age']\n",
    "\n",
    "mean_male_c1 = np.mean(male_c1.dropna())\n",
    "std_male_c1 = np.std(male_c1.dropna())\n",
    "mean_male_c2 = np.mean(male_c2.dropna())\n",
    "std_male_c2 = np.std(male_c2.dropna())\n",
    "mean_male_c3 = np.mean(male_c3.dropna())\n",
    "std_male_c3 = np.std(male_c3.dropna())\n",
    "\n",
    "mean_female_c1 = np.mean(female_c1.dropna())\n",
    "std_female_c1 = np.std(female_c1.dropna())\n",
    "mean_female_c2 = np.mean(female_c2.dropna())\n",
    "std_female_c2 = np.std(female_c2.dropna())\n",
    "mean_female_c3 = np.mean(female_c3.dropna())\n",
    "std_female_c3 = np.std(female_c3.dropna())\n",
    "\n",
    "data = replace_age(data, sex='male', Pclass=1, mean=mean_male_c1, std=std_male_c1)\n",
    "data = replace_age(data, sex='male', Pclass=2, mean=mean_male_c2, std=std_male_c2)\n",
    "data = replace_age(data, sex='male', Pclass=3, mean=mean_male_c3, std=std_male_c3)\n",
    "data = replace_age(data, sex='female', Pclass=1, mean=mean_female_c1, std=std_female_c1)\n",
    "data = replace_age(data, sex='female', Pclass=2, mean=mean_female_c2, std=std_female_c2)\n",
    "data = replace_age(data, sex='female', Pclass=3, mean=mean_female_c3, std=std_female_c3)"
   ]
  },
  {
   "cell_type": "code",
   "execution_count": 171,
   "metadata": {
    "collapsed": false
   },
   "outputs": [],
   "source": [
    "# Fill Embarked with most common value\n",
    "data['Embarked'] = data['Embarked'].fillna('S')"
   ]
  },
  {
   "cell_type": "code",
   "execution_count": 172,
   "metadata": {
    "collapsed": true
   },
   "outputs": [],
   "source": [
    "# Create numeric value for Embarked, Sex, Age and Fare\n",
    "data['Embarked'] = data['Embarked'].map( {'S': 0, 'C': 1, 'Q': 2} ).astype(int)\n",
    "data['Sex'] = data['Sex'].map( {'female': 1, 'male': 0} ).astype(int)\n",
    "data.loc[ data['Age'] <=6.5, 'Age'] = 0\n",
    "data.loc[(data['Age'] > 6.5) & (data['Age'] <= 17), 'Age'] = 1\n",
    "data.loc[(data['Age'] > 17) & (data['Age'] <= 27.5), 'Age'] = 2\n",
    "data.loc[(data['Age'] > 27.5) & (data['Age'] <= 38), 'Age'] = 3\n",
    "data.loc[(data['Age'] > 38) & (data['Age'] <= 48.5), 'Age'] = 4\n",
    "data.loc[(data['Age'] > 48.5) & (data['Age'] <= 59), 'Age'] = 5\n",
    "data.loc[(data['Age'] > 59) & (data['Age'] <= 69.5), 'Age'] = 6\n",
    "data.loc[ data['Age'] > 69.5, 'Age'] = 7\n",
    "data.loc[ data['Fare'] <= 170, 'Fare'] = 0\n",
    "data.loc[(data['Fare'] > 170) & (data['Fare'] <= 341), 'Fare'] = 1\n",
    "data.loc[ data['Fare'] > 341, 'Fare'] = 2"
   ]
  },
  {
   "cell_type": "code",
   "execution_count": 178,
   "metadata": {
    "collapsed": false
   },
   "outputs": [
    {
     "name": "stdout",
     "output_type": "stream",
     "text": [
      "<class 'pandas.core.frame.DataFrame'>\n",
      "RangeIndex: 891 entries, 0 to 890\n",
      "Data columns (total 8 columns):\n",
      "Survived    891 non-null int64\n",
      "Pclass      891 non-null int64\n",
      "Sex         891 non-null int32\n",
      "Age         891 non-null float64\n",
      "SibSp       891 non-null int64\n",
      "Parch       891 non-null int64\n",
      "Fare        891 non-null float64\n",
      "Embarked    891 non-null int32\n",
      "dtypes: float64(2), int32(2), int64(4)\n",
      "memory usage: 48.8 KB\n"
     ]
    }
   ],
   "source": [
    "for key in ['Ticket', 'Name', 'Cabin', 'PassengerId']:\n",
    "    if key in data.columns:\n",
    "        data.drop([key], axis=1, inplace=True)\n",
    "data.info()"
   ]
  },
  {
   "cell_type": "code",
   "execution_count": 179,
   "metadata": {
    "collapsed": false
   },
   "outputs": [
    {
     "data": {
      "text/html": [
       "<div>\n",
       "<style>\n",
       "    .dataframe thead tr:only-child th {\n",
       "        text-align: right;\n",
       "    }\n",
       "\n",
       "    .dataframe thead th {\n",
       "        text-align: left;\n",
       "    }\n",
       "\n",
       "    .dataframe tbody tr th {\n",
       "        vertical-align: top;\n",
       "    }\n",
       "</style>\n",
       "<table border=\"1\" class=\"dataframe\">\n",
       "  <thead>\n",
       "    <tr style=\"text-align: right;\">\n",
       "      <th></th>\n",
       "      <th>Survived</th>\n",
       "      <th>Pclass</th>\n",
       "      <th>Sex</th>\n",
       "      <th>Age</th>\n",
       "      <th>SibSp</th>\n",
       "      <th>Parch</th>\n",
       "      <th>Fare</th>\n",
       "      <th>Embarked</th>\n",
       "    </tr>\n",
       "  </thead>\n",
       "  <tbody>\n",
       "    <tr>\n",
       "      <th>0</th>\n",
       "      <td>0</td>\n",
       "      <td>3</td>\n",
       "      <td>0</td>\n",
       "      <td>2.0</td>\n",
       "      <td>1</td>\n",
       "      <td>0</td>\n",
       "      <td>0.0</td>\n",
       "      <td>0</td>\n",
       "    </tr>\n",
       "    <tr>\n",
       "      <th>1</th>\n",
       "      <td>1</td>\n",
       "      <td>1</td>\n",
       "      <td>1</td>\n",
       "      <td>3.0</td>\n",
       "      <td>1</td>\n",
       "      <td>0</td>\n",
       "      <td>0.0</td>\n",
       "      <td>1</td>\n",
       "    </tr>\n",
       "    <tr>\n",
       "      <th>2</th>\n",
       "      <td>1</td>\n",
       "      <td>3</td>\n",
       "      <td>1</td>\n",
       "      <td>2.0</td>\n",
       "      <td>0</td>\n",
       "      <td>0</td>\n",
       "      <td>0.0</td>\n",
       "      <td>0</td>\n",
       "    </tr>\n",
       "    <tr>\n",
       "      <th>3</th>\n",
       "      <td>1</td>\n",
       "      <td>1</td>\n",
       "      <td>1</td>\n",
       "      <td>3.0</td>\n",
       "      <td>1</td>\n",
       "      <td>0</td>\n",
       "      <td>0.0</td>\n",
       "      <td>0</td>\n",
       "    </tr>\n",
       "    <tr>\n",
       "      <th>4</th>\n",
       "      <td>0</td>\n",
       "      <td>3</td>\n",
       "      <td>0</td>\n",
       "      <td>3.0</td>\n",
       "      <td>0</td>\n",
       "      <td>0</td>\n",
       "      <td>0.0</td>\n",
       "      <td>0</td>\n",
       "    </tr>\n",
       "  </tbody>\n",
       "</table>\n",
       "</div>"
      ],
      "text/plain": [
       "   Survived  Pclass  Sex  Age  SibSp  Parch  Fare  Embarked\n",
       "0         0       3    0  2.0      1      0   0.0         0\n",
       "1         1       1    1  3.0      1      0   0.0         1\n",
       "2         1       3    1  2.0      0      0   0.0         0\n",
       "3         1       1    1  3.0      1      0   0.0         0\n",
       "4         0       3    0  3.0      0      0   0.0         0"
      ]
     },
     "execution_count": 179,
     "metadata": {},
     "output_type": "execute_result"
    }
   ],
   "source": [
    "data.head()"
   ]
  },
  {
   "cell_type": "code",
   "execution_count": 188,
   "metadata": {
    "collapsed": true
   },
   "outputs": [],
   "source": [
    "data.to_csv('18-05-2018_titanic_train_edited.csv')"
   ]
  },
  {
   "cell_type": "markdown",
   "metadata": {},
   "source": [
    "## Moddeling and Predicting\n",
    "This is a standard classification problem, so multiple algorithms might apply, for example:\n",
    "- Logistic Regression\n",
    "- Support Vector Machines\n",
    "- k-Nearest-Neighbors\n",
    "- Random Tree/Forest\n",
    "\n",
    "For Neural Networks, the given training data is way too small. 17 categories might be too high dimensional for kNN, but still worth a try. For now I will compare Logistic Regression kNN and SVM and maybe include Random Forests later"
   ]
  },
  {
   "cell_type": "code",
   "execution_count": 213,
   "metadata": {
    "collapsed": true
   },
   "outputs": [],
   "source": [
    "from sklearn.linear_model import LogisticRegressionCV\n",
    "from sklearn.svm import SVC\n",
    "from sklearn.neighbors import KNeighborsClassifier\n",
    "from sklearn.preprocessing import StandardScaler\n",
    "from sklearn.metrics import accuracy_score, classification_report\n",
    "from sklearn.model_selection import train_test_split, GridSearchCV"
   ]
  },
  {
   "cell_type": "markdown",
   "metadata": {},
   "source": [
    "#### Prepare Data for Modelling"
   ]
  },
  {
   "cell_type": "code",
   "execution_count": 183,
   "metadata": {
    "collapsed": false
   },
   "outputs": [],
   "source": [
    "X_keys = ['Pclass', 'Sex', 'Age', 'SibSp', 'Parch', 'Fare',\n",
    "           'Embarked']\n",
    "y_key = 'Survived'"
   ]
  },
  {
   "cell_type": "code",
   "execution_count": 186,
   "metadata": {
    "collapsed": false
   },
   "outputs": [],
   "source": [
    "X = data[X_keys]\n",
    "y = data[y_key]"
   ]
  },
  {
   "cell_type": "code",
   "execution_count": 201,
   "metadata": {
    "collapsed": false
   },
   "outputs": [
    {
     "name": "stdout",
     "output_type": "stream",
     "text": [
      "Shape X_train: (596, 7) - Shape X_test: (295, 7)\n",
      "Shape y_train: (596,) - Shape y_test: (295,)\n"
     ]
    }
   ],
   "source": [
    "X_train, X_test, y_train, y_test = train_test_split(X, y, test_size=0.33)\n",
    "\n",
    "scaler = StandardScaler()\n",
    "scaler.fit(X_train)\n",
    "\n",
    "X_train = scaler.transform(X_train)\n",
    "X_test = scaler.transform(X_test)\n",
    "print('Shape X_train: ' + str(X_train.shape) + ' - Shape X_test: ' + str(X_test.shape))\n",
    "print('Shape y_train: ' + str(y_train.shape) + ' - Shape y_test: ' + str(y_test.shape))"
   ]
  },
  {
   "cell_type": "markdown",
   "metadata": {},
   "source": [
    "#### Logistic Regression"
   ]
  },
  {
   "cell_type": "code",
   "execution_count": 214,
   "metadata": {
    "collapsed": false
   },
   "outputs": [
    {
     "name": "stdout",
     "output_type": "stream",
     "text": [
      "Best parameters set found on development set:\n",
      "\n",
      "{'Cs': 50, 'class_weight': 'balanced', 'solver': 'liblinear'}\n",
      "\n",
      "Grid scores:\n",
      "\n",
      "0.768 (+/-0.037) for {'Cs': 1, 'class_weight': 'balanced', 'solver': 'liblinear'}\n",
      "0.789 (+/-0.016) for {'Cs': 1, 'class_weight': 'balanced', 'solver': 'lbfgs'}\n",
      "0.789 (+/-0.035) for {'Cs': 5, 'class_weight': 'balanced', 'solver': 'liblinear'}\n",
      "0.787 (+/-0.033) for {'Cs': 5, 'class_weight': 'balanced', 'solver': 'lbfgs'}\n",
      "0.789 (+/-0.035) for {'Cs': 10, 'class_weight': 'balanced', 'solver': 'liblinear'}\n",
      "0.785 (+/-0.037) for {'Cs': 10, 'class_weight': 'balanced', 'solver': 'lbfgs'}\n",
      "0.789 (+/-0.035) for {'Cs': 15, 'class_weight': 'balanced', 'solver': 'liblinear'}\n",
      "0.787 (+/-0.040) for {'Cs': 15, 'class_weight': 'balanced', 'solver': 'lbfgs'}\n",
      "0.789 (+/-0.035) for {'Cs': 20, 'class_weight': 'balanced', 'solver': 'liblinear'}\n",
      "0.787 (+/-0.040) for {'Cs': 20, 'class_weight': 'balanced', 'solver': 'lbfgs'}\n",
      "0.790 (+/-0.031) for {'Cs': 50, 'class_weight': 'balanced', 'solver': 'liblinear'}\n",
      "0.787 (+/-0.040) for {'Cs': 50, 'class_weight': 'balanced', 'solver': 'lbfgs'}\n"
     ]
    }
   ],
   "source": [
    "logreg = LogisticRegressionCV()\n",
    "parameters = {'Cs': [1, 5, 10, 15, 20, 50], 'solver' : ['liblinear', 'lbfgs'], 'class_weight' : ['balanced']}\n",
    "clf = GridSearchCV(logreg, parameters, scoring='accuracy')\n",
    "clf.fit(X_train, y_train)\n",
    "print(\"Best parameters set found on development set:\")\n",
    "print()\n",
    "print(clf.best_params_)\n",
    "print()\n",
    "print(\"Grid scores:\")\n",
    "print()\n",
    "means = clf.cv_results_['mean_test_score']\n",
    "stds = clf.cv_results_['std_test_score']\n",
    "for mean, std, params in zip(means, stds, clf.cv_results_['params']):\n",
    "    print(\"%0.3f (+/-%0.03f) for %r\" % (mean, std * 2, params))"
   ]
  },
  {
   "cell_type": "code",
   "execution_count": 215,
   "metadata": {
    "collapsed": false
   },
   "outputs": [
    {
     "name": "stdout",
     "output_type": "stream",
     "text": [
      "             precision    recall  f1-score   support\n",
      "\n",
      "          0       0.82      0.80      0.81       177\n",
      "          1       0.71      0.73      0.72       118\n",
      "\n",
      "avg / total       0.77      0.77      0.77       295\n",
      "\n",
      "\n",
      "Accuracy: 0.773\n"
     ]
    }
   ],
   "source": [
    "logreg = LogisticRegressionCV()\n",
    "best_params = {'Cs': 50, 'class_weight': 'balanced', 'solver': 'liblinear'}\n",
    "logreg.set_params(**best_params)\n",
    "logreg.fit(X_train, y_train)\n",
    "print(classification_report(y_test, logreg.predict(X_test)))\n",
    "logreg_acc = accuracy_score(y_test, logreg.predict(X_test))\n",
    "print('\\nAccuracy: %.3f' % logreg_acc)"
   ]
  },
  {
   "cell_type": "code",
   "execution_count": 216,
   "metadata": {
    "collapsed": false
   },
   "outputs": [
    {
     "data": {
      "text/html": [
       "<div>\n",
       "<style>\n",
       "    .dataframe thead tr:only-child th {\n",
       "        text-align: right;\n",
       "    }\n",
       "\n",
       "    .dataframe thead th {\n",
       "        text-align: left;\n",
       "    }\n",
       "\n",
       "    .dataframe tbody tr th {\n",
       "        vertical-align: top;\n",
       "    }\n",
       "</style>\n",
       "<table border=\"1\" class=\"dataframe\">\n",
       "  <thead>\n",
       "    <tr style=\"text-align: right;\">\n",
       "      <th></th>\n",
       "      <th>Feature</th>\n",
       "      <th>Correlation</th>\n",
       "    </tr>\n",
       "  </thead>\n",
       "  <tbody>\n",
       "    <tr>\n",
       "      <th>1</th>\n",
       "      <td>Sex</td>\n",
       "      <td>1.309604</td>\n",
       "    </tr>\n",
       "    <tr>\n",
       "      <th>6</th>\n",
       "      <td>Embarked</td>\n",
       "      <td>0.279340</td>\n",
       "    </tr>\n",
       "    <tr>\n",
       "      <th>5</th>\n",
       "      <td>Fare</td>\n",
       "      <td>0.028693</td>\n",
       "    </tr>\n",
       "    <tr>\n",
       "      <th>4</th>\n",
       "      <td>Parch</td>\n",
       "      <td>-0.061776</td>\n",
       "    </tr>\n",
       "    <tr>\n",
       "      <th>3</th>\n",
       "      <td>SibSp</td>\n",
       "      <td>-0.328601</td>\n",
       "    </tr>\n",
       "    <tr>\n",
       "      <th>2</th>\n",
       "      <td>Age</td>\n",
       "      <td>-0.632816</td>\n",
       "    </tr>\n",
       "    <tr>\n",
       "      <th>0</th>\n",
       "      <td>Pclass</td>\n",
       "      <td>-1.030131</td>\n",
       "    </tr>\n",
       "  </tbody>\n",
       "</table>\n",
       "</div>"
      ],
      "text/plain": [
       "    Feature  Correlation\n",
       "1       Sex     1.309604\n",
       "6  Embarked     0.279340\n",
       "5      Fare     0.028693\n",
       "4     Parch    -0.061776\n",
       "3     SibSp    -0.328601\n",
       "2       Age    -0.632816\n",
       "0    Pclass    -1.030131"
      ]
     },
     "execution_count": 216,
     "metadata": {},
     "output_type": "execute_result"
    }
   ],
   "source": [
    "logreg_coeff = pd.DataFrame(data.columns.delete(0))\n",
    "logreg_coeff.columns = ['Feature']\n",
    "logreg_coeff[\"Correlation\"] = pd.Series(logreg.coef_[0])\n",
    "logreg_coeff.sort_values(by='Correlation', ascending=False)"
   ]
  },
  {
   "cell_type": "markdown",
   "metadata": {},
   "source": [
    "#### k Nearest Neighbors"
   ]
  },
  {
   "cell_type": "code",
   "execution_count": 225,
   "metadata": {
    "collapsed": false
   },
   "outputs": [
    {
     "name": "stdout",
     "output_type": "stream",
     "text": [
      "Best parameters set found on development set:\n",
      "\n",
      "{'n_neighbors': 10, 'weights': 'uniform'}\n",
      "\n",
      "Grid scores:\n",
      "\n",
      "0.770 (+/-0.063) for {'n_neighbors': 3, 'weights': 'uniform'}\n",
      "0.765 (+/-0.058) for {'n_neighbors': 3, 'weights': 'distance'}\n",
      "0.805 (+/-0.030) for {'n_neighbors': 5, 'weights': 'uniform'}\n",
      "0.790 (+/-0.005) for {'n_neighbors': 5, 'weights': 'distance'}\n",
      "0.824 (+/-0.023) for {'n_neighbors': 10, 'weights': 'uniform'}\n",
      "0.800 (+/-0.005) for {'n_neighbors': 10, 'weights': 'distance'}\n",
      "0.814 (+/-0.031) for {'n_neighbors': 15, 'weights': 'uniform'}\n",
      "0.800 (+/-0.039) for {'n_neighbors': 15, 'weights': 'distance'}\n",
      "0.815 (+/-0.030) for {'n_neighbors': 20, 'weights': 'uniform'}\n",
      "0.799 (+/-0.029) for {'n_neighbors': 20, 'weights': 'distance'}\n",
      "0.804 (+/-0.025) for {'n_neighbors': 50, 'weights': 'uniform'}\n",
      "0.799 (+/-0.017) for {'n_neighbors': 50, 'weights': 'distance'}\n"
     ]
    }
   ],
   "source": [
    "kNN = KNeighborsClassifier()\n",
    "parameters = {'n_neighbors' : [3, 5, 10, 15, 20, 50], 'weights': ['uniform', 'distance']}\n",
    "clf = GridSearchCV(kNN, parameters, scoring='accuracy')\n",
    "clf.fit(X_train, y_train)\n",
    "print(\"Best parameters set found on development set:\")\n",
    "print()\n",
    "print(clf.best_params_)\n",
    "print()\n",
    "print(\"Grid scores:\")\n",
    "print()\n",
    "means = clf.cv_results_['mean_test_score']\n",
    "stds = clf.cv_results_['std_test_score']\n",
    "for mean, std, params in zip(means, stds, clf.cv_results_['params']):\n",
    "    print(\"%0.3f (+/-%0.03f) for %r\" % (mean, std * 2, params))"
   ]
  },
  {
   "cell_type": "code",
   "execution_count": 223,
   "metadata": {
    "collapsed": false
   },
   "outputs": [
    {
     "name": "stdout",
     "output_type": "stream",
     "text": [
      "             precision    recall  f1-score   support\n",
      "\n",
      "          0       0.77      0.90      0.83       177\n",
      "          1       0.81      0.60      0.69       118\n",
      "\n",
      "avg / total       0.79      0.78      0.78       295\n",
      "\n",
      "\n",
      "Accuracy: 0.783\n"
     ]
    }
   ],
   "source": [
    "kNN = KNeighborsClassifier()\n",
    "best_params = {'n_neighbors': 10, 'weights': 'uniform'}\n",
    "kNN.set_params(**best_params)\n",
    "kNN.fit(X_train, y_train)\n",
    "print(classification_report(y_test, kNN.predict(X_test)))\n",
    "kNN_acc = accuracy_score(y_test, kNN.predict(X_test))\n",
    "print('\\nAccuracy: %.3f' % kNN_acc)"
   ]
  },
  {
   "cell_type": "markdown",
   "metadata": {},
   "source": [
    "#### Support Vector Machine\n",
    "(May take some time)"
   ]
  },
  {
   "cell_type": "code",
   "execution_count": 219,
   "metadata": {
    "collapsed": false
   },
   "outputs": [
    {
     "name": "stdout",
     "output_type": "stream",
     "text": [
      "Best parameters set found on development set:\n",
      "\n",
      "{'C': 1000, 'gamma': 0.001, 'kernel': 'rbf'}\n",
      "\n",
      "Grid scores:\n",
      "\n",
      "0.638 (+/-0.002) for {'C': 1, 'gamma': 0.001, 'kernel': 'rbf'}\n",
      "0.624 (+/-0.003) for {'C': 1, 'gamma': 0.0001, 'kernel': 'rbf'}\n",
      "0.799 (+/-0.021) for {'C': 10, 'gamma': 0.001, 'kernel': 'rbf'}\n",
      "0.638 (+/-0.002) for {'C': 10, 'gamma': 0.0001, 'kernel': 'rbf'}\n",
      "0.797 (+/-0.016) for {'C': 100, 'gamma': 0.001, 'kernel': 'rbf'}\n",
      "0.799 (+/-0.021) for {'C': 100, 'gamma': 0.0001, 'kernel': 'rbf'}\n",
      "0.812 (+/-0.024) for {'C': 1000, 'gamma': 0.001, 'kernel': 'rbf'}\n",
      "0.797 (+/-0.016) for {'C': 1000, 'gamma': 0.0001, 'kernel': 'rbf'}\n",
      "0.795 (+/-0.012) for {'C': 1, 'kernel': 'linear'}\n",
      "0.799 (+/-0.021) for {'C': 10, 'kernel': 'linear'}\n",
      "0.800 (+/-0.026) for {'C': 100, 'kernel': 'linear'}\n",
      "0.799 (+/-0.021) for {'C': 1000, 'kernel': 'linear'}\n"
     ]
    }
   ],
   "source": [
    "SVM = SVC()\n",
    "parameters = [{'kernel': ['rbf'], 'gamma': [1e-3, 1e-4],\n",
    "               'C': [1, 10, 100, 1000]},\n",
    "               {'kernel': ['linear'], 'C': [1, 10, 100, 1000]}]\n",
    "clf = GridSearchCV(SVM, parameters, scoring='accuracy')\n",
    "clf.fit(X_train, y_train)\n",
    "print(\"Best parameters set found on development set:\")\n",
    "print()\n",
    "print(clf.best_params_)\n",
    "print()\n",
    "print(\"Grid scores:\")\n",
    "print()\n",
    "means = clf.cv_results_['mean_test_score']\n",
    "stds = clf.cv_results_['std_test_score']\n",
    "for mean, std, params in zip(means, stds, clf.cv_results_['params']):\n",
    "    print(\"%0.3f (+/-%0.03f) for %r\" % (mean, std * 2, params))"
   ]
  },
  {
   "cell_type": "code",
   "execution_count": 220,
   "metadata": {
    "collapsed": false
   },
   "outputs": [
    {
     "name": "stdout",
     "output_type": "stream",
     "text": [
      "             precision    recall  f1-score   support\n",
      "\n",
      "          0       0.79      0.88      0.83       177\n",
      "          1       0.78      0.66      0.72       118\n",
      "\n",
      "avg / total       0.79      0.79      0.79       295\n",
      "\n",
      "\n",
      "Accuracy: 0.790\n"
     ]
    }
   ],
   "source": [
    "SVM = SVC()\n",
    "best_params = {'C': 1000, 'gamma': 0.001, 'kernel': 'rbf'}\n",
    "SVM.set_params(**best_params)\n",
    "SVM.fit(X_train, y_train)\n",
    "print(classification_report(y_test, SVM.predict(X_test)))\n",
    "SVM_acc = accuracy_score(y_test, SVM.predict(X_test))\n",
    "print('\\nAccuracy: %.3f' % SVM_acc)"
   ]
  },
  {
   "cell_type": "markdown",
   "metadata": {},
   "source": [
    "## Classification Results\n",
    "\n",
    "- Logistic Regression: ACC = 0.773\n",
    "- k Nearest Neighbours: ACC = 0.783\n",
    "- Support Vector Machine : ACC = 0.790\n",
    "\n",
    "Best Parameters for SVM: {'C': 1000, 'gamma': 0.001, 'kernel': 'rbf'}"
   ]
  },
  {
   "cell_type": "markdown",
   "metadata": {},
   "source": [
    "# Predicting Test Dataset for Competition\n",
    "\n",
    "### First, prepare Data like before"
   ]
  },
  {
   "cell_type": "code",
   "execution_count": 227,
   "metadata": {
    "collapsed": false
   },
   "outputs": [
    {
     "data": {
      "text/html": [
       "<div>\n",
       "<style>\n",
       "    .dataframe thead tr:only-child th {\n",
       "        text-align: right;\n",
       "    }\n",
       "\n",
       "    .dataframe thead th {\n",
       "        text-align: left;\n",
       "    }\n",
       "\n",
       "    .dataframe tbody tr th {\n",
       "        vertical-align: top;\n",
       "    }\n",
       "</style>\n",
       "<table border=\"1\" class=\"dataframe\">\n",
       "  <thead>\n",
       "    <tr style=\"text-align: right;\">\n",
       "      <th></th>\n",
       "      <th>PassengerId</th>\n",
       "      <th>Pclass</th>\n",
       "      <th>Name</th>\n",
       "      <th>Sex</th>\n",
       "      <th>Age</th>\n",
       "      <th>SibSp</th>\n",
       "      <th>Parch</th>\n",
       "      <th>Ticket</th>\n",
       "      <th>Fare</th>\n",
       "      <th>Cabin</th>\n",
       "      <th>Embarked</th>\n",
       "    </tr>\n",
       "  </thead>\n",
       "  <tbody>\n",
       "    <tr>\n",
       "      <th>0</th>\n",
       "      <td>892</td>\n",
       "      <td>3</td>\n",
       "      <td>Kelly, Mr. James</td>\n",
       "      <td>male</td>\n",
       "      <td>34.5</td>\n",
       "      <td>0</td>\n",
       "      <td>0</td>\n",
       "      <td>330911</td>\n",
       "      <td>7.8292</td>\n",
       "      <td>NaN</td>\n",
       "      <td>Q</td>\n",
       "    </tr>\n",
       "    <tr>\n",
       "      <th>1</th>\n",
       "      <td>893</td>\n",
       "      <td>3</td>\n",
       "      <td>Wilkes, Mrs. James (Ellen Needs)</td>\n",
       "      <td>female</td>\n",
       "      <td>47.0</td>\n",
       "      <td>1</td>\n",
       "      <td>0</td>\n",
       "      <td>363272</td>\n",
       "      <td>7.0000</td>\n",
       "      <td>NaN</td>\n",
       "      <td>S</td>\n",
       "    </tr>\n",
       "    <tr>\n",
       "      <th>2</th>\n",
       "      <td>894</td>\n",
       "      <td>2</td>\n",
       "      <td>Myles, Mr. Thomas Francis</td>\n",
       "      <td>male</td>\n",
       "      <td>62.0</td>\n",
       "      <td>0</td>\n",
       "      <td>0</td>\n",
       "      <td>240276</td>\n",
       "      <td>9.6875</td>\n",
       "      <td>NaN</td>\n",
       "      <td>Q</td>\n",
       "    </tr>\n",
       "    <tr>\n",
       "      <th>3</th>\n",
       "      <td>895</td>\n",
       "      <td>3</td>\n",
       "      <td>Wirz, Mr. Albert</td>\n",
       "      <td>male</td>\n",
       "      <td>27.0</td>\n",
       "      <td>0</td>\n",
       "      <td>0</td>\n",
       "      <td>315154</td>\n",
       "      <td>8.6625</td>\n",
       "      <td>NaN</td>\n",
       "      <td>S</td>\n",
       "    </tr>\n",
       "    <tr>\n",
       "      <th>4</th>\n",
       "      <td>896</td>\n",
       "      <td>3</td>\n",
       "      <td>Hirvonen, Mrs. Alexander (Helga E Lindqvist)</td>\n",
       "      <td>female</td>\n",
       "      <td>22.0</td>\n",
       "      <td>1</td>\n",
       "      <td>1</td>\n",
       "      <td>3101298</td>\n",
       "      <td>12.2875</td>\n",
       "      <td>NaN</td>\n",
       "      <td>S</td>\n",
       "    </tr>\n",
       "  </tbody>\n",
       "</table>\n",
       "</div>"
      ],
      "text/plain": [
       "   PassengerId  Pclass                                          Name     Sex  \\\n",
       "0          892       3                              Kelly, Mr. James    male   \n",
       "1          893       3              Wilkes, Mrs. James (Ellen Needs)  female   \n",
       "2          894       2                     Myles, Mr. Thomas Francis    male   \n",
       "3          895       3                              Wirz, Mr. Albert    male   \n",
       "4          896       3  Hirvonen, Mrs. Alexander (Helga E Lindqvist)  female   \n",
       "\n",
       "    Age  SibSp  Parch   Ticket     Fare Cabin Embarked  \n",
       "0  34.5      0      0   330911   7.8292   NaN        Q  \n",
       "1  47.0      1      0   363272   7.0000   NaN        S  \n",
       "2  62.0      0      0   240276   9.6875   NaN        Q  \n",
       "3  27.0      0      0   315154   8.6625   NaN        S  \n",
       "4  22.0      1      1  3101298  12.2875   NaN        S  "
      ]
     },
     "execution_count": 227,
     "metadata": {},
     "output_type": "execute_result"
    }
   ],
   "source": [
    "test_data = pd.read_csv('titanic_test.csv')\n",
    "test_data.head()"
   ]
  },
  {
   "cell_type": "code",
   "execution_count": 228,
   "metadata": {
    "collapsed": false
   },
   "outputs": [
    {
     "data": {
      "text/html": [
       "<div>\n",
       "<style>\n",
       "    .dataframe thead tr:only-child th {\n",
       "        text-align: right;\n",
       "    }\n",
       "\n",
       "    .dataframe thead th {\n",
       "        text-align: left;\n",
       "    }\n",
       "\n",
       "    .dataframe tbody tr th {\n",
       "        vertical-align: top;\n",
       "    }\n",
       "</style>\n",
       "<table border=\"1\" class=\"dataframe\">\n",
       "  <thead>\n",
       "    <tr style=\"text-align: right;\">\n",
       "      <th></th>\n",
       "      <th>PassengerId</th>\n",
       "      <th>Pclass</th>\n",
       "      <th>Age</th>\n",
       "      <th>SibSp</th>\n",
       "      <th>Parch</th>\n",
       "      <th>Fare</th>\n",
       "    </tr>\n",
       "  </thead>\n",
       "  <tbody>\n",
       "    <tr>\n",
       "      <th>count</th>\n",
       "      <td>418.000000</td>\n",
       "      <td>418.000000</td>\n",
       "      <td>332.000000</td>\n",
       "      <td>418.000000</td>\n",
       "      <td>418.000000</td>\n",
       "      <td>417.000000</td>\n",
       "    </tr>\n",
       "    <tr>\n",
       "      <th>mean</th>\n",
       "      <td>1100.500000</td>\n",
       "      <td>2.265550</td>\n",
       "      <td>30.272590</td>\n",
       "      <td>0.447368</td>\n",
       "      <td>0.392344</td>\n",
       "      <td>35.627188</td>\n",
       "    </tr>\n",
       "    <tr>\n",
       "      <th>std</th>\n",
       "      <td>120.810458</td>\n",
       "      <td>0.841838</td>\n",
       "      <td>14.181209</td>\n",
       "      <td>0.896760</td>\n",
       "      <td>0.981429</td>\n",
       "      <td>55.907576</td>\n",
       "    </tr>\n",
       "    <tr>\n",
       "      <th>min</th>\n",
       "      <td>892.000000</td>\n",
       "      <td>1.000000</td>\n",
       "      <td>0.170000</td>\n",
       "      <td>0.000000</td>\n",
       "      <td>0.000000</td>\n",
       "      <td>0.000000</td>\n",
       "    </tr>\n",
       "    <tr>\n",
       "      <th>25%</th>\n",
       "      <td>996.250000</td>\n",
       "      <td>1.000000</td>\n",
       "      <td>21.000000</td>\n",
       "      <td>0.000000</td>\n",
       "      <td>0.000000</td>\n",
       "      <td>7.895800</td>\n",
       "    </tr>\n",
       "    <tr>\n",
       "      <th>50%</th>\n",
       "      <td>1100.500000</td>\n",
       "      <td>3.000000</td>\n",
       "      <td>27.000000</td>\n",
       "      <td>0.000000</td>\n",
       "      <td>0.000000</td>\n",
       "      <td>14.454200</td>\n",
       "    </tr>\n",
       "    <tr>\n",
       "      <th>75%</th>\n",
       "      <td>1204.750000</td>\n",
       "      <td>3.000000</td>\n",
       "      <td>39.000000</td>\n",
       "      <td>1.000000</td>\n",
       "      <td>0.000000</td>\n",
       "      <td>31.500000</td>\n",
       "    </tr>\n",
       "    <tr>\n",
       "      <th>max</th>\n",
       "      <td>1309.000000</td>\n",
       "      <td>3.000000</td>\n",
       "      <td>76.000000</td>\n",
       "      <td>8.000000</td>\n",
       "      <td>9.000000</td>\n",
       "      <td>512.329200</td>\n",
       "    </tr>\n",
       "  </tbody>\n",
       "</table>\n",
       "</div>"
      ],
      "text/plain": [
       "       PassengerId      Pclass         Age       SibSp       Parch        Fare\n",
       "count   418.000000  418.000000  332.000000  418.000000  418.000000  417.000000\n",
       "mean   1100.500000    2.265550   30.272590    0.447368    0.392344   35.627188\n",
       "std     120.810458    0.841838   14.181209    0.896760    0.981429   55.907576\n",
       "min     892.000000    1.000000    0.170000    0.000000    0.000000    0.000000\n",
       "25%     996.250000    1.000000   21.000000    0.000000    0.000000    7.895800\n",
       "50%    1100.500000    3.000000   27.000000    0.000000    0.000000   14.454200\n",
       "75%    1204.750000    3.000000   39.000000    1.000000    0.000000   31.500000\n",
       "max    1309.000000    3.000000   76.000000    8.000000    9.000000  512.329200"
      ]
     },
     "execution_count": 228,
     "metadata": {},
     "output_type": "execute_result"
    }
   ],
   "source": [
    "test_data.describe()"
   ]
  },
  {
   "cell_type": "code",
   "execution_count": 229,
   "metadata": {
    "collapsed": false
   },
   "outputs": [
    {
     "name": "stdout",
     "output_type": "stream",
     "text": [
      "<class 'pandas.core.frame.DataFrame'>\n",
      "RangeIndex: 418 entries, 0 to 417\n",
      "Data columns (total 11 columns):\n",
      "PassengerId    418 non-null int64\n",
      "Pclass         418 non-null int64\n",
      "Name           418 non-null object\n",
      "Sex            418 non-null object\n",
      "Age            332 non-null float64\n",
      "SibSp          418 non-null int64\n",
      "Parch          418 non-null int64\n",
      "Ticket         418 non-null object\n",
      "Fare           417 non-null float64\n",
      "Cabin          91 non-null object\n",
      "Embarked       418 non-null object\n",
      "dtypes: float64(2), int64(4), object(5)\n",
      "memory usage: 36.0+ KB\n"
     ]
    }
   ],
   "source": [
    "test_data.info()"
   ]
  },
  {
   "cell_type": "code",
   "execution_count": 230,
   "metadata": {
    "collapsed": false
   },
   "outputs": [
    {
     "name": "stdout",
     "output_type": "stream",
     "text": [
      "7 missing values detected\n"
     ]
    },
    {
     "name": "stderr",
     "output_type": "stream",
     "text": [
      "C:\\Users\\mail\\Anaconda3\\lib\\site-packages\\pandas\\core\\indexing.py:517: SettingWithCopyWarning: \n",
      "A value is trying to be set on a copy of a slice from a DataFrame.\n",
      "Try using .loc[row_indexer,col_indexer] = value instead\n",
      "\n",
      "See the caveats in the documentation: http://pandas.pydata.org/pandas-docs/stable/indexing.html#indexing-view-versus-copy\n",
      "  self.obj[item] = s\n"
     ]
    },
    {
     "name": "stdout",
     "output_type": "stream",
     "text": [
      "0 missing values remaining\n",
      "4 missing values detected\n",
      "0 missing values remaining\n",
      "50 missing values detected\n",
      "0 missing values remaining\n",
      "2 missing values detected\n",
      "0 missing values remaining\n",
      "1 missing values detected\n",
      "0 missing values remaining\n",
      "22 missing values detected\n",
      "0 missing values remaining\n"
     ]
    }
   ],
   "source": [
    "test_data = replace_age(test_data, sex='male', Pclass=1, mean=mean_male_c1, std=std_male_c1)\n",
    "test_data = replace_age(test_data, sex='male', Pclass=2, mean=mean_male_c2, std=std_male_c2)\n",
    "test_data = replace_age(test_data, sex='male', Pclass=3, mean=mean_male_c3, std=std_male_c3)\n",
    "test_data = replace_age(test_data, sex='female', Pclass=1, mean=mean_female_c1, std=std_female_c1)\n",
    "test_data = replace_age(test_data, sex='female', Pclass=2, mean=mean_female_c2, std=std_female_c2)\n",
    "test_data = replace_age(test_data, sex='female', Pclass=3, mean=mean_female_c3, std=std_female_c3)"
   ]
  },
  {
   "cell_type": "code",
   "execution_count": 248,
   "metadata": {
    "collapsed": false
   },
   "outputs": [
    {
     "name": "stdout",
     "output_type": "stream",
     "text": [
      "<class 'pandas.core.frame.DataFrame'>\n",
      "RangeIndex: 418 entries, 0 to 417\n",
      "Data columns (total 11 columns):\n",
      "PassengerId    418 non-null int64\n",
      "Pclass         418 non-null int64\n",
      "Name           418 non-null object\n",
      "Sex            418 non-null object\n",
      "Age            418 non-null float64\n",
      "SibSp          418 non-null int64\n",
      "Parch          418 non-null int64\n",
      "Ticket         418 non-null object\n",
      "Fare           418 non-null float64\n",
      "Cabin          91 non-null object\n",
      "Embarked       418 non-null object\n",
      "dtypes: float64(2), int64(4), object(5)\n",
      "memory usage: 36.0+ KB\n"
     ]
    }
   ],
   "source": [
    "# One missing Fare-Value, replace with most common for same Pclass (3, which is 0 \n",
    "test_data.loc[152, 'Fare'] = 0"
   ]
  },
  {
   "cell_type": "code",
   "execution_count": 249,
   "metadata": {
    "collapsed": false
   },
   "outputs": [],
   "source": [
    "# Create numeric value for Embarked, Sex, Age and Fare\n",
    "test_data['Embarked'] = test_data['Embarked'].map( {'S': 0, 'C': 1, 'Q': 2} ).astype(int)\n",
    "test_data['Sex'] = test_data['Sex'].map( {'female': 1, 'male': 0} ).astype(int)\n",
    "test_data.loc[ test_data['Age'] <=6.5, 'Age'] = 0\n",
    "test_data.loc[(test_data['Age'] > 6.5) & (test_data['Age'] <= 17), 'Age'] = 1\n",
    "test_data.loc[(test_data['Age'] > 17) & (test_data['Age'] <= 27.5), 'Age'] = 2\n",
    "test_data.loc[(test_data['Age'] > 27.5) & (test_data['Age'] <= 38), 'Age'] = 3\n",
    "test_data.loc[(test_data['Age'] > 38) & (test_data['Age'] <= 48.5), 'Age'] = 4\n",
    "test_data.loc[(test_data['Age'] > 48.5) & (test_data['Age'] <= 59), 'Age'] = 5\n",
    "test_data.loc[(test_data['Age'] > 59) & (test_data['Age'] <= 69.5), 'Age'] = 6\n",
    "test_data.loc[ test_data['Age'] > 69.5, 'Age'] = 7\n",
    "test_data.loc[ test_data['Fare'] <= 170, 'Fare'] = 0\n",
    "test_data.loc[(test_data['Fare'] > 170) & (test_data['Fare'] <= 341), 'Fare'] = 1\n",
    "test_data.loc[ test_data['Fare'] > 341, 'Fare'] = 2"
   ]
  },
  {
   "cell_type": "code",
   "execution_count": 251,
   "metadata": {
    "collapsed": false
   },
   "outputs": [
    {
     "name": "stdout",
     "output_type": "stream",
     "text": [
      "<class 'pandas.core.frame.DataFrame'>\n",
      "RangeIndex: 418 entries, 0 to 417\n",
      "Data columns (total 7 columns):\n",
      "Pclass      418 non-null int64\n",
      "Sex         418 non-null int32\n",
      "Age         418 non-null float64\n",
      "SibSp       418 non-null int64\n",
      "Parch       418 non-null int64\n",
      "Fare        418 non-null float64\n",
      "Embarked    418 non-null int32\n",
      "dtypes: float64(2), int32(2), int64(3)\n",
      "memory usage: 19.7 KB\n"
     ]
    }
   ],
   "source": [
    "for key in ['Ticket', 'Name', 'Cabin', 'PassengerId']:\n",
    "    if key in test_data.columns:\n",
    "        test_data.drop([key], axis=1, inplace=True)\n",
    "test_data.info()"
   ]
  },
  {
   "cell_type": "markdown",
   "metadata": {},
   "source": [
    "### Predict Survival-Label using the SVM-model"
   ]
  },
  {
   "cell_type": "code",
   "execution_count": 254,
   "metadata": {
    "collapsed": true
   },
   "outputs": [],
   "source": [
    "X = test_data[X_keys]\n",
    "X = scaler.transform(X)\n",
    "y_pred = SVM.predict(X)"
   ]
  },
  {
   "cell_type": "code",
   "execution_count": 265,
   "metadata": {
    "collapsed": false
   },
   "outputs": [
    {
     "data": {
      "text/html": [
       "<div>\n",
       "<style>\n",
       "    .dataframe thead tr:only-child th {\n",
       "        text-align: right;\n",
       "    }\n",
       "\n",
       "    .dataframe thead th {\n",
       "        text-align: left;\n",
       "    }\n",
       "\n",
       "    .dataframe tbody tr th {\n",
       "        vertical-align: top;\n",
       "    }\n",
       "</style>\n",
       "<table border=\"1\" class=\"dataframe\">\n",
       "  <thead>\n",
       "    <tr style=\"text-align: right;\">\n",
       "      <th></th>\n",
       "      <th>Survived</th>\n",
       "    </tr>\n",
       "    <tr>\n",
       "      <th>PassengerId</th>\n",
       "      <th></th>\n",
       "    </tr>\n",
       "  </thead>\n",
       "  <tbody>\n",
       "    <tr>\n",
       "      <th>892</th>\n",
       "      <td>0</td>\n",
       "    </tr>\n",
       "    <tr>\n",
       "      <th>893</th>\n",
       "      <td>1</td>\n",
       "    </tr>\n",
       "    <tr>\n",
       "      <th>894</th>\n",
       "      <td>0</td>\n",
       "    </tr>\n",
       "    <tr>\n",
       "      <th>895</th>\n",
       "      <td>0</td>\n",
       "    </tr>\n",
       "    <tr>\n",
       "      <th>896</th>\n",
       "      <td>1</td>\n",
       "    </tr>\n",
       "  </tbody>\n",
       "</table>\n",
       "</div>"
      ],
      "text/plain": [
       "             Survived\n",
       "PassengerId          \n",
       "892                 0\n",
       "893                 1\n",
       "894                 0\n",
       "895                 0\n",
       "896                 1"
      ]
     },
     "execution_count": 265,
     "metadata": {},
     "output_type": "execute_result"
    }
   ],
   "source": [
    "submission_data = pd.read_csv('titanic_submission_template.csv')\n",
    "submission_data.set_index('PassengerId', inplace=True)\n",
    "submission_data.head()"
   ]
  },
  {
   "cell_type": "code",
   "execution_count": 266,
   "metadata": {
    "collapsed": false
   },
   "outputs": [
    {
     "data": {
      "text/html": [
       "<div>\n",
       "<style>\n",
       "    .dataframe thead tr:only-child th {\n",
       "        text-align: right;\n",
       "    }\n",
       "\n",
       "    .dataframe thead th {\n",
       "        text-align: left;\n",
       "    }\n",
       "\n",
       "    .dataframe tbody tr th {\n",
       "        vertical-align: top;\n",
       "    }\n",
       "</style>\n",
       "<table border=\"1\" class=\"dataframe\">\n",
       "  <thead>\n",
       "    <tr style=\"text-align: right;\">\n",
       "      <th></th>\n",
       "      <th>Survived</th>\n",
       "    </tr>\n",
       "    <tr>\n",
       "      <th>PassengerId</th>\n",
       "      <th></th>\n",
       "    </tr>\n",
       "  </thead>\n",
       "  <tbody>\n",
       "    <tr>\n",
       "      <th>892</th>\n",
       "      <td>0</td>\n",
       "    </tr>\n",
       "    <tr>\n",
       "      <th>893</th>\n",
       "      <td>1</td>\n",
       "    </tr>\n",
       "    <tr>\n",
       "      <th>894</th>\n",
       "      <td>0</td>\n",
       "    </tr>\n",
       "    <tr>\n",
       "      <th>895</th>\n",
       "      <td>0</td>\n",
       "    </tr>\n",
       "    <tr>\n",
       "      <th>896</th>\n",
       "      <td>1</td>\n",
       "    </tr>\n",
       "  </tbody>\n",
       "</table>\n",
       "</div>"
      ],
      "text/plain": [
       "             Survived\n",
       "PassengerId          \n",
       "892                 0\n",
       "893                 1\n",
       "894                 0\n",
       "895                 0\n",
       "896                 1"
      ]
     },
     "execution_count": 266,
     "metadata": {},
     "output_type": "execute_result"
    }
   ],
   "source": [
    "submission_data['Survived'] = y_pred\n",
    "submission_data.head()"
   ]
  },
  {
   "cell_type": "code",
   "execution_count": 268,
   "metadata": {
    "collapsed": false
   },
   "outputs": [],
   "source": [
    "submission_data.to_csv('18-05-2018_titanic_submission.csv')"
   ]
  },
  {
   "cell_type": "code",
   "execution_count": null,
   "metadata": {
    "collapsed": false
   },
   "outputs": [],
   "source": []
  },
  {
   "cell_type": "code",
   "execution_count": null,
   "metadata": {
    "collapsed": true
   },
   "outputs": [],
   "source": []
  }
 ],
 "metadata": {
  "kernelspec": {
   "display_name": "Python 3",
   "language": "python",
   "name": "python3"
  },
  "language_info": {
   "codemirror_mode": {
    "name": "ipython",
    "version": 3
   },
   "file_extension": ".py",
   "mimetype": "text/x-python",
   "name": "python",
   "nbconvert_exporter": "python",
   "pygments_lexer": "ipython3",
   "version": "3.6.0"
  }
 },
 "nbformat": 4,
 "nbformat_minor": 2
}
